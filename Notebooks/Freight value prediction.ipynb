{
 "cells": [
  {
   "cell_type": "markdown",
   "metadata": {},
   "source": [
    "<h1><center>Freight Value Prediction</center></h1>\n",
    "<h3><center>Prediction/Estimation of Freight value for an Ordered product</center></h3>\n",
    "\n",
    "The aim of the analysis, is to predict the freight value of an ordered product on Olist, given the various characteristics invovled in the delivery of the product such as distance, weight and dimensions of the product.\n",
    "\n",
    "The data for this predictive analysis, is not directly available, hence many datasets are joined to get the necessary information into one dataset."
   ]
  },
  {
   "cell_type": "code",
   "execution_count": 279,
   "metadata": {},
   "outputs": [],
   "source": [
    "import pandas as pd\n",
    "import numpy as np\n",
    "from geopy import distance\n",
    "import matplotlib.pyplot as plt\n",
    "import seaborn as sns\n",
    "from ipywidgets import interact\n",
    "from scipy.stats import spearmanr, ttest_1samp, ttest_ind, shapiro, f_oneway\n",
    "from sklearn.preprocessing import StandardScaler\n",
    "from sklearn.decomposition import PCA\n",
    "from sklearn.model_selection import train_test_split\n",
    "from sklearn.linear_model import LinearRegression, LassoCV, RidgeCV, ElasticNet\n",
    "from sklearn.model_selection import cross_validate\n",
    "from sklearn.ensemble import RandomForestRegressor, GradientBoostingRegressor\n",
    "from sklearn.svm import SVR\n",
    "from sklearn.tree import DecisionTreeRegressor\n",
    "from sklearn.neighbors import KNeighborsRegressor\n",
    "from sklearn.neural_network import MLPRegressor\n",
    "from sklearn.model_selection import GridSearchCV\n",
    "from sklearn.metrics import mean_absolute_error, mean_squared_error"
   ]
  },
  {
   "cell_type": "markdown",
   "metadata": {},
   "source": [
    "The customer_order dataset contains mapping of each order on Olist to the customer along with information such as price and freight value of the order. This dataset is used to retreive information of an order and the freight value."
   ]
  },
  {
   "cell_type": "code",
   "execution_count": 235,
   "metadata": {},
   "outputs": [
    {
     "data": {
      "text/html": [
       "<div>\n",
       "<style scoped>\n",
       "    .dataframe tbody tr th:only-of-type {\n",
       "        vertical-align: middle;\n",
       "    }\n",
       "\n",
       "    .dataframe tbody tr th {\n",
       "        vertical-align: top;\n",
       "    }\n",
       "\n",
       "    .dataframe thead th {\n",
       "        text-align: right;\n",
       "    }\n",
       "</style>\n",
       "<table border=\"1\" class=\"dataframe\">\n",
       "  <thead>\n",
       "    <tr style=\"text-align: right;\">\n",
       "      <th></th>\n",
       "      <th>order_id</th>\n",
       "      <th>order_purchase_timestamp</th>\n",
       "      <th>order_item_id</th>\n",
       "      <th>product_id</th>\n",
       "      <th>price</th>\n",
       "      <th>freight_value</th>\n",
       "      <th>customer_unique_id</th>\n",
       "      <th>product_category_name_english</th>\n",
       "    </tr>\n",
       "  </thead>\n",
       "  <tbody>\n",
       "    <tr>\n",
       "      <th>0</th>\n",
       "      <td>e481f51cbdc54678b7cc49136f2d6af7</td>\n",
       "      <td>2017-10-02 10:56:33</td>\n",
       "      <td>1</td>\n",
       "      <td>87285b34884572647811a353c7ac498a</td>\n",
       "      <td>29.99</td>\n",
       "      <td>8.72</td>\n",
       "      <td>7c396fd4830fd04220f754e42b4e5bff</td>\n",
       "      <td>housewares</td>\n",
       "    </tr>\n",
       "    <tr>\n",
       "      <th>1</th>\n",
       "      <td>128e10d95713541c87cd1a2e48201934</td>\n",
       "      <td>2017-08-15 18:29:31</td>\n",
       "      <td>1</td>\n",
       "      <td>87285b34884572647811a353c7ac498a</td>\n",
       "      <td>29.99</td>\n",
       "      <td>7.78</td>\n",
       "      <td>3a51803cc0d012c3b5dc8b7528cb05f7</td>\n",
       "      <td>housewares</td>\n",
       "    </tr>\n",
       "    <tr>\n",
       "      <th>2</th>\n",
       "      <td>0e7e841ddf8f8f2de2bad69267ecfbcf</td>\n",
       "      <td>2017-08-02 18:24:47</td>\n",
       "      <td>1</td>\n",
       "      <td>87285b34884572647811a353c7ac498a</td>\n",
       "      <td>29.99</td>\n",
       "      <td>7.78</td>\n",
       "      <td>ef0996a1a279c26e7ecbd737be23d235</td>\n",
       "      <td>housewares</td>\n",
       "    </tr>\n",
       "    <tr>\n",
       "      <th>3</th>\n",
       "      <td>bfc39df4f36c3693ff3b63fcbea9e90a</td>\n",
       "      <td>2017-10-23 23:26:46</td>\n",
       "      <td>1</td>\n",
       "      <td>87285b34884572647811a353c7ac498a</td>\n",
       "      <td>29.99</td>\n",
       "      <td>14.10</td>\n",
       "      <td>e781fdcc107d13d865fc7698711cc572</td>\n",
       "      <td>housewares</td>\n",
       "    </tr>\n",
       "    <tr>\n",
       "      <th>4</th>\n",
       "      <td>53cdb2fc8bc7dce0b6741e2150273451</td>\n",
       "      <td>2018-07-24 20:41:37</td>\n",
       "      <td>1</td>\n",
       "      <td>595fac2a385ac33a80bd5114aec74eb8</td>\n",
       "      <td>118.70</td>\n",
       "      <td>22.76</td>\n",
       "      <td>af07308b275d755c9edb36a90c618231</td>\n",
       "      <td>perfumery</td>\n",
       "    </tr>\n",
       "  </tbody>\n",
       "</table>\n",
       "</div>"
      ],
      "text/plain": [
       "                           order_id order_purchase_timestamp  order_item_id  \\\n",
       "0  e481f51cbdc54678b7cc49136f2d6af7      2017-10-02 10:56:33              1   \n",
       "1  128e10d95713541c87cd1a2e48201934      2017-08-15 18:29:31              1   \n",
       "2  0e7e841ddf8f8f2de2bad69267ecfbcf      2017-08-02 18:24:47              1   \n",
       "3  bfc39df4f36c3693ff3b63fcbea9e90a      2017-10-23 23:26:46              1   \n",
       "4  53cdb2fc8bc7dce0b6741e2150273451      2018-07-24 20:41:37              1   \n",
       "\n",
       "                         product_id   price  freight_value  \\\n",
       "0  87285b34884572647811a353c7ac498a   29.99           8.72   \n",
       "1  87285b34884572647811a353c7ac498a   29.99           7.78   \n",
       "2  87285b34884572647811a353c7ac498a   29.99           7.78   \n",
       "3  87285b34884572647811a353c7ac498a   29.99          14.10   \n",
       "4  595fac2a385ac33a80bd5114aec74eb8  118.70          22.76   \n",
       "\n",
       "                 customer_unique_id product_category_name_english  \n",
       "0  7c396fd4830fd04220f754e42b4e5bff                    housewares  \n",
       "1  3a51803cc0d012c3b5dc8b7528cb05f7                    housewares  \n",
       "2  ef0996a1a279c26e7ecbd737be23d235                    housewares  \n",
       "3  e781fdcc107d13d865fc7698711cc572                    housewares  \n",
       "4  af07308b275d755c9edb36a90c618231                     perfumery  "
      ]
     },
     "execution_count": 235,
     "metadata": {},
     "output_type": "execute_result"
    }
   ],
   "source": [
    "orders = pd.read_csv('/home/raj/Github/Olist-business-analysis/Joined data/customer_order.csv')\n",
    "orders.head(5)"
   ]
  },
  {
   "cell_type": "markdown",
   "metadata": {},
   "source": [
    "The customer_data dataset contains the customers of Olist and their locations. These will help in the calculation of the distance later."
   ]
  },
  {
   "cell_type": "code",
   "execution_count": 236,
   "metadata": {},
   "outputs": [
    {
     "data": {
      "text/html": [
       "<div>\n",
       "<style scoped>\n",
       "    .dataframe tbody tr th:only-of-type {\n",
       "        vertical-align: middle;\n",
       "    }\n",
       "\n",
       "    .dataframe tbody tr th {\n",
       "        vertical-align: top;\n",
       "    }\n",
       "\n",
       "    .dataframe thead th {\n",
       "        text-align: right;\n",
       "    }\n",
       "</style>\n",
       "<table border=\"1\" class=\"dataframe\">\n",
       "  <thead>\n",
       "    <tr style=\"text-align: right;\">\n",
       "      <th></th>\n",
       "      <th>customer_id</th>\n",
       "      <th>customer_unique_id</th>\n",
       "      <th>customer_zip_code_prefix</th>\n",
       "      <th>customer_city</th>\n",
       "      <th>customer_state</th>\n",
       "      <th>geolocation_lat</th>\n",
       "      <th>geolocation_lng</th>\n",
       "    </tr>\n",
       "  </thead>\n",
       "  <tbody>\n",
       "    <tr>\n",
       "      <th>0</th>\n",
       "      <td>06b8999e2fba1a1fbc88172c00ba8bc7</td>\n",
       "      <td>861eff4711a542e4b93843c6dd7febb0</td>\n",
       "      <td>14409</td>\n",
       "      <td>franca</td>\n",
       "      <td>SP</td>\n",
       "      <td>-20.498489</td>\n",
       "      <td>-47.396929</td>\n",
       "    </tr>\n",
       "    <tr>\n",
       "      <th>1</th>\n",
       "      <td>18955e83d337fd6b2def6b18a428ac77</td>\n",
       "      <td>290c77bc529b7ac935b93aa66c333dc3</td>\n",
       "      <td>9790</td>\n",
       "      <td>sao bernardo do campo</td>\n",
       "      <td>SP</td>\n",
       "      <td>-23.727992</td>\n",
       "      <td>-46.542848</td>\n",
       "    </tr>\n",
       "    <tr>\n",
       "      <th>2</th>\n",
       "      <td>4e7b3e00288586ebd08712fdd0374a03</td>\n",
       "      <td>060e732b5b29e8181a18229c7b0b2b5e</td>\n",
       "      <td>1151</td>\n",
       "      <td>sao paulo</td>\n",
       "      <td>SP</td>\n",
       "      <td>-23.531642</td>\n",
       "      <td>-46.656289</td>\n",
       "    </tr>\n",
       "    <tr>\n",
       "      <th>3</th>\n",
       "      <td>b2b6027bc5c5109e529d4dc6358b12c3</td>\n",
       "      <td>259dac757896d24d7702b9acbbff3f3c</td>\n",
       "      <td>8775</td>\n",
       "      <td>mogi das cruzes</td>\n",
       "      <td>SP</td>\n",
       "      <td>-23.499702</td>\n",
       "      <td>-46.185233</td>\n",
       "    </tr>\n",
       "    <tr>\n",
       "      <th>4</th>\n",
       "      <td>4f2d8ab171c80ec8364f7c12e35b23ad</td>\n",
       "      <td>345ecd01c38d18a9036ed96c73b8d066</td>\n",
       "      <td>13056</td>\n",
       "      <td>campinas</td>\n",
       "      <td>SP</td>\n",
       "      <td>-22.975100</td>\n",
       "      <td>-47.142925</td>\n",
       "    </tr>\n",
       "  </tbody>\n",
       "</table>\n",
       "</div>"
      ],
      "text/plain": [
       "                        customer_id                customer_unique_id  \\\n",
       "0  06b8999e2fba1a1fbc88172c00ba8bc7  861eff4711a542e4b93843c6dd7febb0   \n",
       "1  18955e83d337fd6b2def6b18a428ac77  290c77bc529b7ac935b93aa66c333dc3   \n",
       "2  4e7b3e00288586ebd08712fdd0374a03  060e732b5b29e8181a18229c7b0b2b5e   \n",
       "3  b2b6027bc5c5109e529d4dc6358b12c3  259dac757896d24d7702b9acbbff3f3c   \n",
       "4  4f2d8ab171c80ec8364f7c12e35b23ad  345ecd01c38d18a9036ed96c73b8d066   \n",
       "\n",
       "   customer_zip_code_prefix          customer_city customer_state  \\\n",
       "0                     14409                 franca             SP   \n",
       "1                      9790  sao bernardo do campo             SP   \n",
       "2                      1151              sao paulo             SP   \n",
       "3                      8775        mogi das cruzes             SP   \n",
       "4                     13056               campinas             SP   \n",
       "\n",
       "   geolocation_lat  geolocation_lng  \n",
       "0       -20.498489       -47.396929  \n",
       "1       -23.727992       -46.542848  \n",
       "2       -23.531642       -46.656289  \n",
       "3       -23.499702       -46.185233  \n",
       "4       -22.975100       -47.142925  "
      ]
     },
     "execution_count": 236,
     "metadata": {},
     "output_type": "execute_result"
    }
   ],
   "source": [
    "customers = pd.read_csv('/home/raj/Github/Olist-business-analysis/Joined data/customer_data.csv', index_col=0)\n",
    "customers.head(5)"
   ]
  },
  {
   "cell_type": "markdown",
   "metadata": {},
   "source": [
    "The customers dataframe is grouped on customer_unique_id and aggregated on mode of latitude & longitude of the customer, so that unique values are obtained. One unique location for each customer. "
   ]
  },
  {
   "cell_type": "code",
   "execution_count": 237,
   "metadata": {},
   "outputs": [
    {
     "data": {
      "text/html": [
       "<div>\n",
       "<style scoped>\n",
       "    .dataframe tbody tr th:only-of-type {\n",
       "        vertical-align: middle;\n",
       "    }\n",
       "\n",
       "    .dataframe tbody tr th {\n",
       "        vertical-align: top;\n",
       "    }\n",
       "\n",
       "    .dataframe thead th {\n",
       "        text-align: right;\n",
       "    }\n",
       "</style>\n",
       "<table border=\"1\" class=\"dataframe\">\n",
       "  <thead>\n",
       "    <tr style=\"text-align: right;\">\n",
       "      <th></th>\n",
       "      <th>customer_unique_id</th>\n",
       "      <th>geolocation_lat</th>\n",
       "      <th>geolocation_lng</th>\n",
       "    </tr>\n",
       "  </thead>\n",
       "  <tbody>\n",
       "    <tr>\n",
       "      <th>0</th>\n",
       "      <td>0000366f3b9a7992bf8c76cfdf3221e2</td>\n",
       "      <td>-23.340235</td>\n",
       "      <td>-46.830140</td>\n",
       "    </tr>\n",
       "    <tr>\n",
       "      <th>1</th>\n",
       "      <td>0000b849f77a49e4a4ce2b2a4ca5be3f</td>\n",
       "      <td>-23.559115</td>\n",
       "      <td>-46.787626</td>\n",
       "    </tr>\n",
       "    <tr>\n",
       "      <th>2</th>\n",
       "      <td>0000f46a3911fa3c0805444483337064</td>\n",
       "      <td>-27.542880</td>\n",
       "      <td>-48.633426</td>\n",
       "    </tr>\n",
       "    <tr>\n",
       "      <th>3</th>\n",
       "      <td>0000f6ccb0745a6a4b88665a16c9f078</td>\n",
       "      <td>-1.312214</td>\n",
       "      <td>-48.483159</td>\n",
       "    </tr>\n",
       "    <tr>\n",
       "      <th>4</th>\n",
       "      <td>0004aac84e0df4da2b147fca70cf8255</td>\n",
       "      <td>-23.505548</td>\n",
       "      <td>-47.469705</td>\n",
       "    </tr>\n",
       "  </tbody>\n",
       "</table>\n",
       "</div>"
      ],
      "text/plain": [
       "                 customer_unique_id  geolocation_lat  geolocation_lng\n",
       "0  0000366f3b9a7992bf8c76cfdf3221e2       -23.340235       -46.830140\n",
       "1  0000b849f77a49e4a4ce2b2a4ca5be3f       -23.559115       -46.787626\n",
       "2  0000f46a3911fa3c0805444483337064       -27.542880       -48.633426\n",
       "3  0000f6ccb0745a6a4b88665a16c9f078        -1.312214       -48.483159\n",
       "4  0004aac84e0df4da2b147fca70cf8255       -23.505548       -47.469705"
      ]
     },
     "execution_count": 237,
     "metadata": {},
     "output_type": "execute_result"
    }
   ],
   "source": [
    "cust_locs = customers[[\n",
    "    'customer_unique_id',\n",
    "    'geolocation_lat',\n",
    "    'geolocation_lng'\n",
    "]].groupby('customer_unique_id').mean().reset_index()\n",
    "cust_locs.head(5)"
   ]
  },
  {
   "cell_type": "markdown",
   "metadata": {},
   "source": [
    "The two datasets above, are merged on customer_unique_id, to obtain a mapping of order to customer and the customer's location along with freight value."
   ]
  },
  {
   "cell_type": "code",
   "execution_count": 238,
   "metadata": {},
   "outputs": [
    {
     "data": {
      "text/html": [
       "<div>\n",
       "<style scoped>\n",
       "    .dataframe tbody tr th:only-of-type {\n",
       "        vertical-align: middle;\n",
       "    }\n",
       "\n",
       "    .dataframe tbody tr th {\n",
       "        vertical-align: top;\n",
       "    }\n",
       "\n",
       "    .dataframe thead th {\n",
       "        text-align: right;\n",
       "    }\n",
       "</style>\n",
       "<table border=\"1\" class=\"dataframe\">\n",
       "  <thead>\n",
       "    <tr style=\"text-align: right;\">\n",
       "      <th></th>\n",
       "      <th>order_id</th>\n",
       "      <th>customer_unique_id</th>\n",
       "      <th>cust_lat</th>\n",
       "      <th>cust_lng</th>\n",
       "    </tr>\n",
       "  </thead>\n",
       "  <tbody>\n",
       "    <tr>\n",
       "      <th>0</th>\n",
       "      <td>e481f51cbdc54678b7cc49136f2d6af7</td>\n",
       "      <td>7c396fd4830fd04220f754e42b4e5bff</td>\n",
       "      <td>-23.576983</td>\n",
       "      <td>-46.587161</td>\n",
       "    </tr>\n",
       "    <tr>\n",
       "      <th>1</th>\n",
       "      <td>128e10d95713541c87cd1a2e48201934</td>\n",
       "      <td>3a51803cc0d012c3b5dc8b7528cb05f7</td>\n",
       "      <td>-23.564630</td>\n",
       "      <td>-46.534268</td>\n",
       "    </tr>\n",
       "    <tr>\n",
       "      <th>2</th>\n",
       "      <td>0e7e841ddf8f8f2de2bad69267ecfbcf</td>\n",
       "      <td>ef0996a1a279c26e7ecbd737be23d235</td>\n",
       "      <td>-23.600462</td>\n",
       "      <td>-46.655318</td>\n",
       "    </tr>\n",
       "    <tr>\n",
       "      <th>3</th>\n",
       "      <td>bfc39df4f36c3693ff3b63fcbea9e90a</td>\n",
       "      <td>e781fdcc107d13d865fc7698711cc572</td>\n",
       "      <td>-27.528367</td>\n",
       "      <td>-48.491914</td>\n",
       "    </tr>\n",
       "    <tr>\n",
       "      <th>4</th>\n",
       "      <td>53cdb2fc8bc7dce0b6741e2150273451</td>\n",
       "      <td>af07308b275d755c9edb36a90c618231</td>\n",
       "      <td>-12.177924</td>\n",
       "      <td>-44.660711</td>\n",
       "    </tr>\n",
       "  </tbody>\n",
       "</table>\n",
       "</div>"
      ],
      "text/plain": [
       "                           order_id                customer_unique_id  \\\n",
       "0  e481f51cbdc54678b7cc49136f2d6af7  7c396fd4830fd04220f754e42b4e5bff   \n",
       "1  128e10d95713541c87cd1a2e48201934  3a51803cc0d012c3b5dc8b7528cb05f7   \n",
       "2  0e7e841ddf8f8f2de2bad69267ecfbcf  ef0996a1a279c26e7ecbd737be23d235   \n",
       "3  bfc39df4f36c3693ff3b63fcbea9e90a  e781fdcc107d13d865fc7698711cc572   \n",
       "4  53cdb2fc8bc7dce0b6741e2150273451  af07308b275d755c9edb36a90c618231   \n",
       "\n",
       "    cust_lat   cust_lng  \n",
       "0 -23.576983 -46.587161  \n",
       "1 -23.564630 -46.534268  \n",
       "2 -23.600462 -46.655318  \n",
       "3 -27.528367 -48.491914  \n",
       "4 -12.177924 -44.660711  "
      ]
     },
     "execution_count": 238,
     "metadata": {},
     "output_type": "execute_result"
    }
   ],
   "source": [
    "order_customer_loc = pd.merge(\n",
    "    left= orders,\n",
    "    right= cust_locs,\n",
    "    on= 'customer_unique_id',\n",
    "    how= 'left'\n",
    ").rename(columns= {'geolocation_lat':'cust_lat', 'geolocation_lng':'cust_lng'})[[\n",
    "    'order_id',\n",
    "    'customer_unique_id',\n",
    "    'cust_lat',\n",
    "    'cust_lng'\n",
    "]]\n",
    "order_customer_loc.head(5)"
   ]
  },
  {
   "cell_type": "markdown",
   "metadata": {},
   "source": [
    "The olist_order_items_dataset contains a mapping of order to the product and the seller fulfilling it. The seller information can be obtained from this dataset."
   ]
  },
  {
   "cell_type": "code",
   "execution_count": 239,
   "metadata": {},
   "outputs": [
    {
     "data": {
      "text/html": [
       "<div>\n",
       "<style scoped>\n",
       "    .dataframe tbody tr th:only-of-type {\n",
       "        vertical-align: middle;\n",
       "    }\n",
       "\n",
       "    .dataframe tbody tr th {\n",
       "        vertical-align: top;\n",
       "    }\n",
       "\n",
       "    .dataframe thead th {\n",
       "        text-align: right;\n",
       "    }\n",
       "</style>\n",
       "<table border=\"1\" class=\"dataframe\">\n",
       "  <thead>\n",
       "    <tr style=\"text-align: right;\">\n",
       "      <th></th>\n",
       "      <th>order_id</th>\n",
       "      <th>order_item_id</th>\n",
       "      <th>product_id</th>\n",
       "      <th>seller_id</th>\n",
       "      <th>shipping_limit_date</th>\n",
       "      <th>price</th>\n",
       "      <th>freight_value</th>\n",
       "    </tr>\n",
       "  </thead>\n",
       "  <tbody>\n",
       "    <tr>\n",
       "      <th>0</th>\n",
       "      <td>00010242fe8c5a6d1ba2dd792cb16214</td>\n",
       "      <td>1</td>\n",
       "      <td>4244733e06e7ecb4970a6e2683c13e61</td>\n",
       "      <td>48436dade18ac8b2bce089ec2a041202</td>\n",
       "      <td>2017-09-19 09:45:35</td>\n",
       "      <td>58.90</td>\n",
       "      <td>13.29</td>\n",
       "    </tr>\n",
       "    <tr>\n",
       "      <th>1</th>\n",
       "      <td>00018f77f2f0320c557190d7a144bdd3</td>\n",
       "      <td>1</td>\n",
       "      <td>e5f2d52b802189ee658865ca93d83a8f</td>\n",
       "      <td>dd7ddc04e1b6c2c614352b383efe2d36</td>\n",
       "      <td>2017-05-03 11:05:13</td>\n",
       "      <td>239.90</td>\n",
       "      <td>19.93</td>\n",
       "    </tr>\n",
       "    <tr>\n",
       "      <th>2</th>\n",
       "      <td>000229ec398224ef6ca0657da4fc703e</td>\n",
       "      <td>1</td>\n",
       "      <td>c777355d18b72b67abbeef9df44fd0fd</td>\n",
       "      <td>5b51032eddd242adc84c38acab88f23d</td>\n",
       "      <td>2018-01-18 14:48:30</td>\n",
       "      <td>199.00</td>\n",
       "      <td>17.87</td>\n",
       "    </tr>\n",
       "    <tr>\n",
       "      <th>3</th>\n",
       "      <td>00024acbcdf0a6daa1e931b038114c75</td>\n",
       "      <td>1</td>\n",
       "      <td>7634da152a4610f1595efa32f14722fc</td>\n",
       "      <td>9d7a1d34a5052409006425275ba1c2b4</td>\n",
       "      <td>2018-08-15 10:10:18</td>\n",
       "      <td>12.99</td>\n",
       "      <td>12.79</td>\n",
       "    </tr>\n",
       "    <tr>\n",
       "      <th>4</th>\n",
       "      <td>00042b26cf59d7ce69dfabb4e55b4fd9</td>\n",
       "      <td>1</td>\n",
       "      <td>ac6c3623068f30de03045865e4e10089</td>\n",
       "      <td>df560393f3a51e74553ab94004ba5c87</td>\n",
       "      <td>2017-02-13 13:57:51</td>\n",
       "      <td>199.90</td>\n",
       "      <td>18.14</td>\n",
       "    </tr>\n",
       "  </tbody>\n",
       "</table>\n",
       "</div>"
      ],
      "text/plain": [
       "                           order_id  order_item_id  \\\n",
       "0  00010242fe8c5a6d1ba2dd792cb16214              1   \n",
       "1  00018f77f2f0320c557190d7a144bdd3              1   \n",
       "2  000229ec398224ef6ca0657da4fc703e              1   \n",
       "3  00024acbcdf0a6daa1e931b038114c75              1   \n",
       "4  00042b26cf59d7ce69dfabb4e55b4fd9              1   \n",
       "\n",
       "                         product_id                         seller_id  \\\n",
       "0  4244733e06e7ecb4970a6e2683c13e61  48436dade18ac8b2bce089ec2a041202   \n",
       "1  e5f2d52b802189ee658865ca93d83a8f  dd7ddc04e1b6c2c614352b383efe2d36   \n",
       "2  c777355d18b72b67abbeef9df44fd0fd  5b51032eddd242adc84c38acab88f23d   \n",
       "3  7634da152a4610f1595efa32f14722fc  9d7a1d34a5052409006425275ba1c2b4   \n",
       "4  ac6c3623068f30de03045865e4e10089  df560393f3a51e74553ab94004ba5c87   \n",
       "\n",
       "   shipping_limit_date   price  freight_value  \n",
       "0  2017-09-19 09:45:35   58.90          13.29  \n",
       "1  2017-05-03 11:05:13  239.90          19.93  \n",
       "2  2018-01-18 14:48:30  199.00          17.87  \n",
       "3  2018-08-15 10:10:18   12.99          12.79  \n",
       "4  2017-02-13 13:57:51  199.90          18.14  "
      ]
     },
     "execution_count": 239,
     "metadata": {},
     "output_type": "execute_result"
    }
   ],
   "source": [
    "order_items = pd.read_csv('/home/raj/Github/Olist-business-analysis/Original data/olist_order_items_dataset.csv')\n",
    "order_items.head(5)"
   ]
  },
  {
   "cell_type": "markdown",
   "metadata": {},
   "source": [
    "The delivery_data dataset contains data on seller and seller locations, for every customers who has ever ordered on Olist. The seller locations are required for the calculation of distance the product has to be shipped."
   ]
  },
  {
   "cell_type": "code",
   "execution_count": 240,
   "metadata": {},
   "outputs": [
    {
     "data": {
      "text/html": [
       "<div>\n",
       "<style scoped>\n",
       "    .dataframe tbody tr th:only-of-type {\n",
       "        vertical-align: middle;\n",
       "    }\n",
       "\n",
       "    .dataframe tbody tr th {\n",
       "        vertical-align: top;\n",
       "    }\n",
       "\n",
       "    .dataframe thead th {\n",
       "        text-align: right;\n",
       "    }\n",
       "</style>\n",
       "<table border=\"1\" class=\"dataframe\">\n",
       "  <thead>\n",
       "    <tr style=\"text-align: right;\">\n",
       "      <th></th>\n",
       "      <th>order_purchase_timestamp</th>\n",
       "      <th>order_delivered_customer_date</th>\n",
       "      <th>order_estimated_delivery_date</th>\n",
       "      <th>seller_id</th>\n",
       "      <th>customer_unique_id</th>\n",
       "      <th>customer_lat</th>\n",
       "      <th>customer_lng</th>\n",
       "      <th>customer_city</th>\n",
       "      <th>seller_city</th>\n",
       "      <th>seller_lat</th>\n",
       "      <th>seller_lng</th>\n",
       "    </tr>\n",
       "  </thead>\n",
       "  <tbody>\n",
       "    <tr>\n",
       "      <th>0</th>\n",
       "      <td>13-09-2017 08:59</td>\n",
       "      <td>20-09-2017 23:43</td>\n",
       "      <td>29-09-2017 00:00</td>\n",
       "      <td>48436dade18ac8b2bce089ec2a041202</td>\n",
       "      <td>871766c5855e863f6eccc05f988b23cb</td>\n",
       "      <td>-21.762775</td>\n",
       "      <td>-41.309633</td>\n",
       "      <td>campos dos goytacazes</td>\n",
       "      <td>volta redonda</td>\n",
       "      <td>-22.496953</td>\n",
       "      <td>-44.127492</td>\n",
       "    </tr>\n",
       "    <tr>\n",
       "      <th>1</th>\n",
       "      <td>26-04-2017 10:53</td>\n",
       "      <td>12-05-2017 16:04</td>\n",
       "      <td>15-05-2017 00:00</td>\n",
       "      <td>dd7ddc04e1b6c2c614352b383efe2d36</td>\n",
       "      <td>eb28e67c4c0b83846050ddfb8a35d051</td>\n",
       "      <td>-20.220527</td>\n",
       "      <td>-50.903424</td>\n",
       "      <td>santa fe do sul</td>\n",
       "      <td>sao paulo</td>\n",
       "      <td>-23.565096</td>\n",
       "      <td>-46.518565</td>\n",
       "    </tr>\n",
       "    <tr>\n",
       "      <th>2</th>\n",
       "      <td>14-01-2018 14:33</td>\n",
       "      <td>22-01-2018 13:19</td>\n",
       "      <td>05-02-2018 00:00</td>\n",
       "      <td>5b51032eddd242adc84c38acab88f23d</td>\n",
       "      <td>3818d81c6709e39d06b2738a8d3a2474</td>\n",
       "      <td>-19.870305</td>\n",
       "      <td>-44.593326</td>\n",
       "      <td>para de minas</td>\n",
       "      <td>borda da mata</td>\n",
       "      <td>-22.262584</td>\n",
       "      <td>-46.171124</td>\n",
       "    </tr>\n",
       "    <tr>\n",
       "      <th>3</th>\n",
       "      <td>08-08-2018 10:00</td>\n",
       "      <td>14-08-2018 13:32</td>\n",
       "      <td>20-08-2018 00:00</td>\n",
       "      <td>9d7a1d34a5052409006425275ba1c2b4</td>\n",
       "      <td>af861d436cfc08b2c2ddefd0ba074622</td>\n",
       "      <td>-23.089925</td>\n",
       "      <td>-46.611654</td>\n",
       "      <td>atibaia</td>\n",
       "      <td>franca</td>\n",
       "      <td>-20.553624</td>\n",
       "      <td>-47.387359</td>\n",
       "    </tr>\n",
       "    <tr>\n",
       "      <th>4</th>\n",
       "      <td>04-02-2017 13:57</td>\n",
       "      <td>01-03-2017 16:42</td>\n",
       "      <td>17-03-2017 00:00</td>\n",
       "      <td>df560393f3a51e74553ab94004ba5c87</td>\n",
       "      <td>64b576fb70d441e8f1b2d7d446e483c5</td>\n",
       "      <td>-23.243402</td>\n",
       "      <td>-46.827614</td>\n",
       "      <td>varzea paulista</td>\n",
       "      <td>loanda</td>\n",
       "      <td>-22.929384</td>\n",
       "      <td>-53.135873</td>\n",
       "    </tr>\n",
       "  </tbody>\n",
       "</table>\n",
       "</div>"
      ],
      "text/plain": [
       "  order_purchase_timestamp order_delivered_customer_date  \\\n",
       "0         13-09-2017 08:59              20-09-2017 23:43   \n",
       "1         26-04-2017 10:53              12-05-2017 16:04   \n",
       "2         14-01-2018 14:33              22-01-2018 13:19   \n",
       "3         08-08-2018 10:00              14-08-2018 13:32   \n",
       "4         04-02-2017 13:57              01-03-2017 16:42   \n",
       "\n",
       "  order_estimated_delivery_date                         seller_id  \\\n",
       "0              29-09-2017 00:00  48436dade18ac8b2bce089ec2a041202   \n",
       "1              15-05-2017 00:00  dd7ddc04e1b6c2c614352b383efe2d36   \n",
       "2              05-02-2018 00:00  5b51032eddd242adc84c38acab88f23d   \n",
       "3              20-08-2018 00:00  9d7a1d34a5052409006425275ba1c2b4   \n",
       "4              17-03-2017 00:00  df560393f3a51e74553ab94004ba5c87   \n",
       "\n",
       "                 customer_unique_id  customer_lat  customer_lng  \\\n",
       "0  871766c5855e863f6eccc05f988b23cb    -21.762775    -41.309633   \n",
       "1  eb28e67c4c0b83846050ddfb8a35d051    -20.220527    -50.903424   \n",
       "2  3818d81c6709e39d06b2738a8d3a2474    -19.870305    -44.593326   \n",
       "3  af861d436cfc08b2c2ddefd0ba074622    -23.089925    -46.611654   \n",
       "4  64b576fb70d441e8f1b2d7d446e483c5    -23.243402    -46.827614   \n",
       "\n",
       "           customer_city    seller_city  seller_lat  seller_lng  \n",
       "0  campos dos goytacazes  volta redonda  -22.496953  -44.127492  \n",
       "1        santa fe do sul      sao paulo  -23.565096  -46.518565  \n",
       "2          para de minas  borda da mata  -22.262584  -46.171124  \n",
       "3                atibaia         franca  -20.553624  -47.387359  \n",
       "4        varzea paulista         loanda  -22.929384  -53.135873  "
      ]
     },
     "execution_count": 240,
     "metadata": {},
     "output_type": "execute_result"
    }
   ],
   "source": [
    "sellers = pd.read_csv('/home/raj/Github/Olist-business-analysis/Joined data/delivery_data.csv')\n",
    "sellers.head(5)"
   ]
  },
  {
   "cell_type": "markdown",
   "metadata": {},
   "source": [
    "Similar to customer, the dataset is grouped on seller_id and aggregated on latitude & longitude, to obtain unique location for each seller."
   ]
  },
  {
   "cell_type": "code",
   "execution_count": 241,
   "metadata": {},
   "outputs": [
    {
     "data": {
      "text/html": [
       "<div>\n",
       "<style scoped>\n",
       "    .dataframe tbody tr th:only-of-type {\n",
       "        vertical-align: middle;\n",
       "    }\n",
       "\n",
       "    .dataframe tbody tr th {\n",
       "        vertical-align: top;\n",
       "    }\n",
       "\n",
       "    .dataframe thead th {\n",
       "        text-align: right;\n",
       "    }\n",
       "</style>\n",
       "<table border=\"1\" class=\"dataframe\">\n",
       "  <thead>\n",
       "    <tr style=\"text-align: right;\">\n",
       "      <th></th>\n",
       "      <th>seller_id</th>\n",
       "      <th>seller_lat</th>\n",
       "      <th>seller_lng</th>\n",
       "    </tr>\n",
       "  </thead>\n",
       "  <tbody>\n",
       "    <tr>\n",
       "      <th>0</th>\n",
       "      <td>0015a82c2db000af6aaaf3ae2ecb0532</td>\n",
       "      <td>-23.640444</td>\n",
       "      <td>-46.541742</td>\n",
       "    </tr>\n",
       "    <tr>\n",
       "      <th>1</th>\n",
       "      <td>001cca7ae9ae17fb1caed9dfb1094831</td>\n",
       "      <td>-20.278513</td>\n",
       "      <td>-40.411675</td>\n",
       "    </tr>\n",
       "    <tr>\n",
       "      <th>2</th>\n",
       "      <td>001e6ad469a905060d959994f1b41e4f</td>\n",
       "      <td>-22.872355</td>\n",
       "      <td>-43.027433</td>\n",
       "    </tr>\n",
       "    <tr>\n",
       "      <th>3</th>\n",
       "      <td>002100f778ceb8431b7a1020ff7ab48f</td>\n",
       "      <td>-20.528759</td>\n",
       "      <td>-47.411110</td>\n",
       "    </tr>\n",
       "    <tr>\n",
       "      <th>4</th>\n",
       "      <td>003554e2dce176b5555353e4f3555ac8</td>\n",
       "      <td>-16.640574</td>\n",
       "      <td>-49.276483</td>\n",
       "    </tr>\n",
       "  </tbody>\n",
       "</table>\n",
       "</div>"
      ],
      "text/plain": [
       "                          seller_id  seller_lat  seller_lng\n",
       "0  0015a82c2db000af6aaaf3ae2ecb0532  -23.640444  -46.541742\n",
       "1  001cca7ae9ae17fb1caed9dfb1094831  -20.278513  -40.411675\n",
       "2  001e6ad469a905060d959994f1b41e4f  -22.872355  -43.027433\n",
       "3  002100f778ceb8431b7a1020ff7ab48f  -20.528759  -47.411110\n",
       "4  003554e2dce176b5555353e4f3555ac8  -16.640574  -49.276483"
      ]
     },
     "execution_count": 241,
     "metadata": {},
     "output_type": "execute_result"
    }
   ],
   "source": [
    "sell_loc = sellers[[\n",
    "    'seller_id',\n",
    "    'seller_lat',\n",
    "    'seller_lng'\n",
    "]].groupby('seller_id').mean().reset_index()\n",
    "sell_loc.head(5)"
   ]
  },
  {
   "cell_type": "markdown",
   "metadata": {},
   "source": [
    "The two are now merged to get a mapping of products to seller locations."
   ]
  },
  {
   "cell_type": "code",
   "execution_count": 242,
   "metadata": {},
   "outputs": [
    {
     "data": {
      "text/html": [
       "<div>\n",
       "<style scoped>\n",
       "    .dataframe tbody tr th:only-of-type {\n",
       "        vertical-align: middle;\n",
       "    }\n",
       "\n",
       "    .dataframe tbody tr th {\n",
       "        vertical-align: top;\n",
       "    }\n",
       "\n",
       "    .dataframe thead th {\n",
       "        text-align: right;\n",
       "    }\n",
       "</style>\n",
       "<table border=\"1\" class=\"dataframe\">\n",
       "  <thead>\n",
       "    <tr style=\"text-align: right;\">\n",
       "      <th></th>\n",
       "      <th>order_id</th>\n",
       "      <th>product_id</th>\n",
       "      <th>seller_id</th>\n",
       "      <th>freight_value</th>\n",
       "      <th>seller_lat</th>\n",
       "      <th>seller_lng</th>\n",
       "      <th>price</th>\n",
       "    </tr>\n",
       "  </thead>\n",
       "  <tbody>\n",
       "    <tr>\n",
       "      <th>0</th>\n",
       "      <td>00010242fe8c5a6d1ba2dd792cb16214</td>\n",
       "      <td>4244733e06e7ecb4970a6e2683c13e61</td>\n",
       "      <td>48436dade18ac8b2bce089ec2a041202</td>\n",
       "      <td>13.29</td>\n",
       "      <td>-22.496953</td>\n",
       "      <td>-44.127492</td>\n",
       "      <td>58.90</td>\n",
       "    </tr>\n",
       "    <tr>\n",
       "      <th>1</th>\n",
       "      <td>00018f77f2f0320c557190d7a144bdd3</td>\n",
       "      <td>e5f2d52b802189ee658865ca93d83a8f</td>\n",
       "      <td>dd7ddc04e1b6c2c614352b383efe2d36</td>\n",
       "      <td>19.93</td>\n",
       "      <td>-23.565096</td>\n",
       "      <td>-46.518565</td>\n",
       "      <td>239.90</td>\n",
       "    </tr>\n",
       "    <tr>\n",
       "      <th>2</th>\n",
       "      <td>000229ec398224ef6ca0657da4fc703e</td>\n",
       "      <td>c777355d18b72b67abbeef9df44fd0fd</td>\n",
       "      <td>5b51032eddd242adc84c38acab88f23d</td>\n",
       "      <td>17.87</td>\n",
       "      <td>-22.262584</td>\n",
       "      <td>-46.171124</td>\n",
       "      <td>199.00</td>\n",
       "    </tr>\n",
       "    <tr>\n",
       "      <th>3</th>\n",
       "      <td>00024acbcdf0a6daa1e931b038114c75</td>\n",
       "      <td>7634da152a4610f1595efa32f14722fc</td>\n",
       "      <td>9d7a1d34a5052409006425275ba1c2b4</td>\n",
       "      <td>12.79</td>\n",
       "      <td>-20.553624</td>\n",
       "      <td>-47.387359</td>\n",
       "      <td>12.99</td>\n",
       "    </tr>\n",
       "    <tr>\n",
       "      <th>4</th>\n",
       "      <td>00042b26cf59d7ce69dfabb4e55b4fd9</td>\n",
       "      <td>ac6c3623068f30de03045865e4e10089</td>\n",
       "      <td>df560393f3a51e74553ab94004ba5c87</td>\n",
       "      <td>18.14</td>\n",
       "      <td>-22.929384</td>\n",
       "      <td>-53.135873</td>\n",
       "      <td>199.90</td>\n",
       "    </tr>\n",
       "  </tbody>\n",
       "</table>\n",
       "</div>"
      ],
      "text/plain": [
       "                           order_id                        product_id  \\\n",
       "0  00010242fe8c5a6d1ba2dd792cb16214  4244733e06e7ecb4970a6e2683c13e61   \n",
       "1  00018f77f2f0320c557190d7a144bdd3  e5f2d52b802189ee658865ca93d83a8f   \n",
       "2  000229ec398224ef6ca0657da4fc703e  c777355d18b72b67abbeef9df44fd0fd   \n",
       "3  00024acbcdf0a6daa1e931b038114c75  7634da152a4610f1595efa32f14722fc   \n",
       "4  00042b26cf59d7ce69dfabb4e55b4fd9  ac6c3623068f30de03045865e4e10089   \n",
       "\n",
       "                          seller_id  freight_value  seller_lat  seller_lng  \\\n",
       "0  48436dade18ac8b2bce089ec2a041202          13.29  -22.496953  -44.127492   \n",
       "1  dd7ddc04e1b6c2c614352b383efe2d36          19.93  -23.565096  -46.518565   \n",
       "2  5b51032eddd242adc84c38acab88f23d          17.87  -22.262584  -46.171124   \n",
       "3  9d7a1d34a5052409006425275ba1c2b4          12.79  -20.553624  -47.387359   \n",
       "4  df560393f3a51e74553ab94004ba5c87          18.14  -22.929384  -53.135873   \n",
       "\n",
       "    price  \n",
       "0   58.90  \n",
       "1  239.90  \n",
       "2  199.00  \n",
       "3   12.99  \n",
       "4  199.90  "
      ]
     },
     "execution_count": 242,
     "metadata": {},
     "output_type": "execute_result"
    }
   ],
   "source": [
    "sell_order_loc = pd.merge(\n",
    "    left= order_items,\n",
    "    right= sell_loc,\n",
    "    on= 'seller_id',\n",
    "    how= 'left'\n",
    ")[[\n",
    "    'order_id',\n",
    "    'product_id',\n",
    "    'seller_id',\n",
    "    'freight_value',\n",
    "    'seller_lat',\n",
    "    'seller_lng',\n",
    "    'price'\n",
    "]]\n",
    "sell_order_loc.head(5)"
   ]
  },
  {
   "cell_type": "markdown",
   "metadata": {},
   "source": [
    "The two joins created earlier are now merged to get a dataset which contains a mapping for customer location to seller location, the product and its freight value."
   ]
  },
  {
   "cell_type": "code",
   "execution_count": 243,
   "metadata": {},
   "outputs": [
    {
     "data": {
      "text/html": [
       "<div>\n",
       "<style scoped>\n",
       "    .dataframe tbody tr th:only-of-type {\n",
       "        vertical-align: middle;\n",
       "    }\n",
       "\n",
       "    .dataframe tbody tr th {\n",
       "        vertical-align: top;\n",
       "    }\n",
       "\n",
       "    .dataframe thead th {\n",
       "        text-align: right;\n",
       "    }\n",
       "</style>\n",
       "<table border=\"1\" class=\"dataframe\">\n",
       "  <thead>\n",
       "    <tr style=\"text-align: right;\">\n",
       "      <th></th>\n",
       "      <th>order_id</th>\n",
       "      <th>customer_unique_id</th>\n",
       "      <th>cust_lat</th>\n",
       "      <th>cust_lng</th>\n",
       "      <th>product_id</th>\n",
       "      <th>seller_id</th>\n",
       "      <th>freight_value</th>\n",
       "      <th>seller_lat</th>\n",
       "      <th>seller_lng</th>\n",
       "      <th>price</th>\n",
       "    </tr>\n",
       "  </thead>\n",
       "  <tbody>\n",
       "    <tr>\n",
       "      <th>0</th>\n",
       "      <td>e481f51cbdc54678b7cc49136f2d6af7</td>\n",
       "      <td>7c396fd4830fd04220f754e42b4e5bff</td>\n",
       "      <td>-23.576983</td>\n",
       "      <td>-46.587161</td>\n",
       "      <td>87285b34884572647811a353c7ac498a</td>\n",
       "      <td>3504c0cb71d7fa48d967e0e4c94d59d9</td>\n",
       "      <td>8.72</td>\n",
       "      <td>-23.680729</td>\n",
       "      <td>-46.444238</td>\n",
       "      <td>29.99</td>\n",
       "    </tr>\n",
       "    <tr>\n",
       "      <th>1</th>\n",
       "      <td>128e10d95713541c87cd1a2e48201934</td>\n",
       "      <td>3a51803cc0d012c3b5dc8b7528cb05f7</td>\n",
       "      <td>-23.564630</td>\n",
       "      <td>-46.534268</td>\n",
       "      <td>87285b34884572647811a353c7ac498a</td>\n",
       "      <td>3504c0cb71d7fa48d967e0e4c94d59d9</td>\n",
       "      <td>7.78</td>\n",
       "      <td>-23.680729</td>\n",
       "      <td>-46.444238</td>\n",
       "      <td>29.99</td>\n",
       "    </tr>\n",
       "    <tr>\n",
       "      <th>2</th>\n",
       "      <td>0e7e841ddf8f8f2de2bad69267ecfbcf</td>\n",
       "      <td>ef0996a1a279c26e7ecbd737be23d235</td>\n",
       "      <td>-23.600462</td>\n",
       "      <td>-46.655318</td>\n",
       "      <td>87285b34884572647811a353c7ac498a</td>\n",
       "      <td>3504c0cb71d7fa48d967e0e4c94d59d9</td>\n",
       "      <td>7.78</td>\n",
       "      <td>-23.680729</td>\n",
       "      <td>-46.444238</td>\n",
       "      <td>29.99</td>\n",
       "    </tr>\n",
       "    <tr>\n",
       "      <th>3</th>\n",
       "      <td>bfc39df4f36c3693ff3b63fcbea9e90a</td>\n",
       "      <td>e781fdcc107d13d865fc7698711cc572</td>\n",
       "      <td>-27.528367</td>\n",
       "      <td>-48.491914</td>\n",
       "      <td>87285b34884572647811a353c7ac498a</td>\n",
       "      <td>3504c0cb71d7fa48d967e0e4c94d59d9</td>\n",
       "      <td>14.10</td>\n",
       "      <td>-23.680729</td>\n",
       "      <td>-46.444238</td>\n",
       "      <td>29.99</td>\n",
       "    </tr>\n",
       "    <tr>\n",
       "      <th>4</th>\n",
       "      <td>53cdb2fc8bc7dce0b6741e2150273451</td>\n",
       "      <td>af07308b275d755c9edb36a90c618231</td>\n",
       "      <td>-12.177924</td>\n",
       "      <td>-44.660711</td>\n",
       "      <td>595fac2a385ac33a80bd5114aec74eb8</td>\n",
       "      <td>289cdb325fb7e7f891c38608bf9e0962</td>\n",
       "      <td>22.76</td>\n",
       "      <td>-19.807681</td>\n",
       "      <td>-43.980427</td>\n",
       "      <td>118.70</td>\n",
       "    </tr>\n",
       "  </tbody>\n",
       "</table>\n",
       "</div>"
      ],
      "text/plain": [
       "                           order_id                customer_unique_id  \\\n",
       "0  e481f51cbdc54678b7cc49136f2d6af7  7c396fd4830fd04220f754e42b4e5bff   \n",
       "1  128e10d95713541c87cd1a2e48201934  3a51803cc0d012c3b5dc8b7528cb05f7   \n",
       "2  0e7e841ddf8f8f2de2bad69267ecfbcf  ef0996a1a279c26e7ecbd737be23d235   \n",
       "3  bfc39df4f36c3693ff3b63fcbea9e90a  e781fdcc107d13d865fc7698711cc572   \n",
       "4  53cdb2fc8bc7dce0b6741e2150273451  af07308b275d755c9edb36a90c618231   \n",
       "\n",
       "    cust_lat   cust_lng                        product_id  \\\n",
       "0 -23.576983 -46.587161  87285b34884572647811a353c7ac498a   \n",
       "1 -23.564630 -46.534268  87285b34884572647811a353c7ac498a   \n",
       "2 -23.600462 -46.655318  87285b34884572647811a353c7ac498a   \n",
       "3 -27.528367 -48.491914  87285b34884572647811a353c7ac498a   \n",
       "4 -12.177924 -44.660711  595fac2a385ac33a80bd5114aec74eb8   \n",
       "\n",
       "                          seller_id  freight_value  seller_lat  seller_lng  \\\n",
       "0  3504c0cb71d7fa48d967e0e4c94d59d9           8.72  -23.680729  -46.444238   \n",
       "1  3504c0cb71d7fa48d967e0e4c94d59d9           7.78  -23.680729  -46.444238   \n",
       "2  3504c0cb71d7fa48d967e0e4c94d59d9           7.78  -23.680729  -46.444238   \n",
       "3  3504c0cb71d7fa48d967e0e4c94d59d9          14.10  -23.680729  -46.444238   \n",
       "4  289cdb325fb7e7f891c38608bf9e0962          22.76  -19.807681  -43.980427   \n",
       "\n",
       "    price  \n",
       "0   29.99  \n",
       "1   29.99  \n",
       "2   29.99  \n",
       "3   29.99  \n",
       "4  118.70  "
      ]
     },
     "execution_count": 243,
     "metadata": {},
     "output_type": "execute_result"
    }
   ],
   "source": [
    "order_cust_sel_loc = pd.merge(\n",
    "    left= order_customer_loc,\n",
    "    right= sell_order_loc,\n",
    "    on= 'order_id',\n",
    "    how= 'inner'\n",
    ").drop_duplicates()\n",
    "order_cust_sel_loc.head(5)"
   ]
  },
  {
   "cell_type": "markdown",
   "metadata": {},
   "source": [
    "The olist_products_dataset contains information of each products, its dimensions, weight and other such characteristics. The product informations required will be obtained from this dataset."
   ]
  },
  {
   "cell_type": "code",
   "execution_count": 244,
   "metadata": {},
   "outputs": [
    {
     "data": {
      "text/html": [
       "<div>\n",
       "<style scoped>\n",
       "    .dataframe tbody tr th:only-of-type {\n",
       "        vertical-align: middle;\n",
       "    }\n",
       "\n",
       "    .dataframe tbody tr th {\n",
       "        vertical-align: top;\n",
       "    }\n",
       "\n",
       "    .dataframe thead th {\n",
       "        text-align: right;\n",
       "    }\n",
       "</style>\n",
       "<table border=\"1\" class=\"dataframe\">\n",
       "  <thead>\n",
       "    <tr style=\"text-align: right;\">\n",
       "      <th></th>\n",
       "      <th>product_id</th>\n",
       "      <th>product_category_name</th>\n",
       "      <th>product_name_lenght</th>\n",
       "      <th>product_description_lenght</th>\n",
       "      <th>product_photos_qty</th>\n",
       "      <th>product_weight_g</th>\n",
       "      <th>product_length_cm</th>\n",
       "      <th>product_height_cm</th>\n",
       "      <th>product_width_cm</th>\n",
       "    </tr>\n",
       "  </thead>\n",
       "  <tbody>\n",
       "    <tr>\n",
       "      <th>0</th>\n",
       "      <td>1e9e8ef04dbcff4541ed26657ea517e5</td>\n",
       "      <td>perfumaria</td>\n",
       "      <td>40.0</td>\n",
       "      <td>287.0</td>\n",
       "      <td>1.0</td>\n",
       "      <td>225.0</td>\n",
       "      <td>16.0</td>\n",
       "      <td>10.0</td>\n",
       "      <td>14.0</td>\n",
       "    </tr>\n",
       "    <tr>\n",
       "      <th>1</th>\n",
       "      <td>3aa071139cb16b67ca9e5dea641aaa2f</td>\n",
       "      <td>artes</td>\n",
       "      <td>44.0</td>\n",
       "      <td>276.0</td>\n",
       "      <td>1.0</td>\n",
       "      <td>1000.0</td>\n",
       "      <td>30.0</td>\n",
       "      <td>18.0</td>\n",
       "      <td>20.0</td>\n",
       "    </tr>\n",
       "    <tr>\n",
       "      <th>2</th>\n",
       "      <td>96bd76ec8810374ed1b65e291975717f</td>\n",
       "      <td>esporte_lazer</td>\n",
       "      <td>46.0</td>\n",
       "      <td>250.0</td>\n",
       "      <td>1.0</td>\n",
       "      <td>154.0</td>\n",
       "      <td>18.0</td>\n",
       "      <td>9.0</td>\n",
       "      <td>15.0</td>\n",
       "    </tr>\n",
       "    <tr>\n",
       "      <th>3</th>\n",
       "      <td>cef67bcfe19066a932b7673e239eb23d</td>\n",
       "      <td>bebes</td>\n",
       "      <td>27.0</td>\n",
       "      <td>261.0</td>\n",
       "      <td>1.0</td>\n",
       "      <td>371.0</td>\n",
       "      <td>26.0</td>\n",
       "      <td>4.0</td>\n",
       "      <td>26.0</td>\n",
       "    </tr>\n",
       "    <tr>\n",
       "      <th>4</th>\n",
       "      <td>9dc1a7de274444849c219cff195d0b71</td>\n",
       "      <td>utilidades_domesticas</td>\n",
       "      <td>37.0</td>\n",
       "      <td>402.0</td>\n",
       "      <td>4.0</td>\n",
       "      <td>625.0</td>\n",
       "      <td>20.0</td>\n",
       "      <td>17.0</td>\n",
       "      <td>13.0</td>\n",
       "    </tr>\n",
       "  </tbody>\n",
       "</table>\n",
       "</div>"
      ],
      "text/plain": [
       "                         product_id  product_category_name  \\\n",
       "0  1e9e8ef04dbcff4541ed26657ea517e5             perfumaria   \n",
       "1  3aa071139cb16b67ca9e5dea641aaa2f                  artes   \n",
       "2  96bd76ec8810374ed1b65e291975717f          esporte_lazer   \n",
       "3  cef67bcfe19066a932b7673e239eb23d                  bebes   \n",
       "4  9dc1a7de274444849c219cff195d0b71  utilidades_domesticas   \n",
       "\n",
       "   product_name_lenght  product_description_lenght  product_photos_qty  \\\n",
       "0                 40.0                       287.0                 1.0   \n",
       "1                 44.0                       276.0                 1.0   \n",
       "2                 46.0                       250.0                 1.0   \n",
       "3                 27.0                       261.0                 1.0   \n",
       "4                 37.0                       402.0                 4.0   \n",
       "\n",
       "   product_weight_g  product_length_cm  product_height_cm  product_width_cm  \n",
       "0             225.0               16.0               10.0              14.0  \n",
       "1            1000.0               30.0               18.0              20.0  \n",
       "2             154.0               18.0                9.0              15.0  \n",
       "3             371.0               26.0                4.0              26.0  \n",
       "4             625.0               20.0               17.0              13.0  "
      ]
     },
     "execution_count": 244,
     "metadata": {},
     "output_type": "execute_result"
    }
   ],
   "source": [
    "products = pd.read_csv('/home/raj/Github/Olist-business-analysis/Original data/olist_products_dataset.csv')\n",
    "products.head(5)"
   ]
  },
  {
   "cell_type": "markdown",
   "metadata": {},
   "source": [
    "The products dataset above and the join created previously, are now merged on product id to get the final dataframe required for predictive analysis. The required columns such as location coordinates, dimensions, weight are retrieved from the joined dataset, along with the target freight value."
   ]
  },
  {
   "cell_type": "code",
   "execution_count": 245,
   "metadata": {},
   "outputs": [
    {
     "data": {
      "text/html": [
       "<div>\n",
       "<style scoped>\n",
       "    .dataframe tbody tr th:only-of-type {\n",
       "        vertical-align: middle;\n",
       "    }\n",
       "\n",
       "    .dataframe tbody tr th {\n",
       "        vertical-align: top;\n",
       "    }\n",
       "\n",
       "    .dataframe thead th {\n",
       "        text-align: right;\n",
       "    }\n",
       "</style>\n",
       "<table border=\"1\" class=\"dataframe\">\n",
       "  <thead>\n",
       "    <tr style=\"text-align: right;\">\n",
       "      <th></th>\n",
       "      <th>order_id</th>\n",
       "      <th>customer_unique_id</th>\n",
       "      <th>product_id</th>\n",
       "      <th>seller_id</th>\n",
       "      <th>cust_lat</th>\n",
       "      <th>cust_lng</th>\n",
       "      <th>seller_lat</th>\n",
       "      <th>seller_lng</th>\n",
       "      <th>product_weight_g</th>\n",
       "      <th>product_length_cm</th>\n",
       "      <th>product_height_cm</th>\n",
       "      <th>product_width_cm</th>\n",
       "      <th>price</th>\n",
       "      <th>freight_value</th>\n",
       "    </tr>\n",
       "  </thead>\n",
       "  <tbody>\n",
       "    <tr>\n",
       "      <th>0</th>\n",
       "      <td>e481f51cbdc54678b7cc49136f2d6af7</td>\n",
       "      <td>7c396fd4830fd04220f754e42b4e5bff</td>\n",
       "      <td>87285b34884572647811a353c7ac498a</td>\n",
       "      <td>3504c0cb71d7fa48d967e0e4c94d59d9</td>\n",
       "      <td>-23.576983</td>\n",
       "      <td>-46.587161</td>\n",
       "      <td>-23.680729</td>\n",
       "      <td>-46.444238</td>\n",
       "      <td>500.0</td>\n",
       "      <td>19.0</td>\n",
       "      <td>8.0</td>\n",
       "      <td>13.0</td>\n",
       "      <td>29.99</td>\n",
       "      <td>8.72</td>\n",
       "    </tr>\n",
       "    <tr>\n",
       "      <th>1</th>\n",
       "      <td>128e10d95713541c87cd1a2e48201934</td>\n",
       "      <td>3a51803cc0d012c3b5dc8b7528cb05f7</td>\n",
       "      <td>87285b34884572647811a353c7ac498a</td>\n",
       "      <td>3504c0cb71d7fa48d967e0e4c94d59d9</td>\n",
       "      <td>-23.564630</td>\n",
       "      <td>-46.534268</td>\n",
       "      <td>-23.680729</td>\n",
       "      <td>-46.444238</td>\n",
       "      <td>500.0</td>\n",
       "      <td>19.0</td>\n",
       "      <td>8.0</td>\n",
       "      <td>13.0</td>\n",
       "      <td>29.99</td>\n",
       "      <td>7.78</td>\n",
       "    </tr>\n",
       "    <tr>\n",
       "      <th>2</th>\n",
       "      <td>0e7e841ddf8f8f2de2bad69267ecfbcf</td>\n",
       "      <td>ef0996a1a279c26e7ecbd737be23d235</td>\n",
       "      <td>87285b34884572647811a353c7ac498a</td>\n",
       "      <td>3504c0cb71d7fa48d967e0e4c94d59d9</td>\n",
       "      <td>-23.600462</td>\n",
       "      <td>-46.655318</td>\n",
       "      <td>-23.680729</td>\n",
       "      <td>-46.444238</td>\n",
       "      <td>500.0</td>\n",
       "      <td>19.0</td>\n",
       "      <td>8.0</td>\n",
       "      <td>13.0</td>\n",
       "      <td>29.99</td>\n",
       "      <td>7.78</td>\n",
       "    </tr>\n",
       "    <tr>\n",
       "      <th>3</th>\n",
       "      <td>bfc39df4f36c3693ff3b63fcbea9e90a</td>\n",
       "      <td>e781fdcc107d13d865fc7698711cc572</td>\n",
       "      <td>87285b34884572647811a353c7ac498a</td>\n",
       "      <td>3504c0cb71d7fa48d967e0e4c94d59d9</td>\n",
       "      <td>-27.528367</td>\n",
       "      <td>-48.491914</td>\n",
       "      <td>-23.680729</td>\n",
       "      <td>-46.444238</td>\n",
       "      <td>500.0</td>\n",
       "      <td>19.0</td>\n",
       "      <td>8.0</td>\n",
       "      <td>13.0</td>\n",
       "      <td>29.99</td>\n",
       "      <td>14.10</td>\n",
       "    </tr>\n",
       "    <tr>\n",
       "      <th>4</th>\n",
       "      <td>53cdb2fc8bc7dce0b6741e2150273451</td>\n",
       "      <td>af07308b275d755c9edb36a90c618231</td>\n",
       "      <td>595fac2a385ac33a80bd5114aec74eb8</td>\n",
       "      <td>289cdb325fb7e7f891c38608bf9e0962</td>\n",
       "      <td>-12.177924</td>\n",
       "      <td>-44.660711</td>\n",
       "      <td>-19.807681</td>\n",
       "      <td>-43.980427</td>\n",
       "      <td>400.0</td>\n",
       "      <td>19.0</td>\n",
       "      <td>13.0</td>\n",
       "      <td>19.0</td>\n",
       "      <td>118.70</td>\n",
       "      <td>22.76</td>\n",
       "    </tr>\n",
       "  </tbody>\n",
       "</table>\n",
       "</div>"
      ],
      "text/plain": [
       "                           order_id                customer_unique_id  \\\n",
       "0  e481f51cbdc54678b7cc49136f2d6af7  7c396fd4830fd04220f754e42b4e5bff   \n",
       "1  128e10d95713541c87cd1a2e48201934  3a51803cc0d012c3b5dc8b7528cb05f7   \n",
       "2  0e7e841ddf8f8f2de2bad69267ecfbcf  ef0996a1a279c26e7ecbd737be23d235   \n",
       "3  bfc39df4f36c3693ff3b63fcbea9e90a  e781fdcc107d13d865fc7698711cc572   \n",
       "4  53cdb2fc8bc7dce0b6741e2150273451  af07308b275d755c9edb36a90c618231   \n",
       "\n",
       "                         product_id                         seller_id  \\\n",
       "0  87285b34884572647811a353c7ac498a  3504c0cb71d7fa48d967e0e4c94d59d9   \n",
       "1  87285b34884572647811a353c7ac498a  3504c0cb71d7fa48d967e0e4c94d59d9   \n",
       "2  87285b34884572647811a353c7ac498a  3504c0cb71d7fa48d967e0e4c94d59d9   \n",
       "3  87285b34884572647811a353c7ac498a  3504c0cb71d7fa48d967e0e4c94d59d9   \n",
       "4  595fac2a385ac33a80bd5114aec74eb8  289cdb325fb7e7f891c38608bf9e0962   \n",
       "\n",
       "    cust_lat   cust_lng  seller_lat  seller_lng  product_weight_g  \\\n",
       "0 -23.576983 -46.587161  -23.680729  -46.444238             500.0   \n",
       "1 -23.564630 -46.534268  -23.680729  -46.444238             500.0   \n",
       "2 -23.600462 -46.655318  -23.680729  -46.444238             500.0   \n",
       "3 -27.528367 -48.491914  -23.680729  -46.444238             500.0   \n",
       "4 -12.177924 -44.660711  -19.807681  -43.980427             400.0   \n",
       "\n",
       "   product_length_cm  product_height_cm  product_width_cm   price  \\\n",
       "0               19.0                8.0              13.0   29.99   \n",
       "1               19.0                8.0              13.0   29.99   \n",
       "2               19.0                8.0              13.0   29.99   \n",
       "3               19.0                8.0              13.0   29.99   \n",
       "4               19.0               13.0              19.0  118.70   \n",
       "\n",
       "   freight_value  \n",
       "0           8.72  \n",
       "1           7.78  \n",
       "2           7.78  \n",
       "3          14.10  \n",
       "4          22.76  "
      ]
     },
     "execution_count": 245,
     "metadata": {},
     "output_type": "execute_result"
    }
   ],
   "source": [
    "df = pd.merge(\n",
    "    left= order_cust_sel_loc,\n",
    "    right= products,\n",
    "    on= 'product_id',\n",
    "    how= 'left'\n",
    ")[[\n",
    "    'order_id',\n",
    "    'customer_unique_id',\n",
    "    'product_id',\n",
    "    'seller_id',\n",
    "    'cust_lat',\n",
    "    'cust_lng',\n",
    "    'seller_lat',\n",
    "    'seller_lng',\n",
    "    'product_weight_g',\n",
    "    'product_length_cm',\n",
    "    'product_height_cm',\n",
    "    'product_width_cm',\n",
    "    'price',\n",
    "    'freight_value'\n",
    "]]\n",
    "df.head(5)"
   ]
  },
  {
   "cell_type": "markdown",
   "metadata": {},
   "source": [
    "Using the customer and seller locations coordinates, the distance is calculated in kms. The distance is crucial as freight values depend on distance. A shipment coming from further away will cost more as compared to a shipment from near by.<br>\n",
    "\n",
    "The distance is calculated with the `geopy.distance.geodesic` function. The model of the earth assumed for this is the most reliable and accurate one used globally - WGS-84"
   ]
  },
  {
   "cell_type": "code",
   "execution_count": 246,
   "metadata": {},
   "outputs": [
    {
     "data": {
      "text/html": [
       "<div>\n",
       "<style scoped>\n",
       "    .dataframe tbody tr th:only-of-type {\n",
       "        vertical-align: middle;\n",
       "    }\n",
       "\n",
       "    .dataframe tbody tr th {\n",
       "        vertical-align: top;\n",
       "    }\n",
       "\n",
       "    .dataframe thead th {\n",
       "        text-align: right;\n",
       "    }\n",
       "</style>\n",
       "<table border=\"1\" class=\"dataframe\">\n",
       "  <thead>\n",
       "    <tr style=\"text-align: right;\">\n",
       "      <th></th>\n",
       "      <th>order_id</th>\n",
       "      <th>customer_unique_id</th>\n",
       "      <th>product_id</th>\n",
       "      <th>seller_id</th>\n",
       "      <th>cust_lat</th>\n",
       "      <th>cust_lng</th>\n",
       "      <th>seller_lat</th>\n",
       "      <th>seller_lng</th>\n",
       "      <th>product_weight_g</th>\n",
       "      <th>product_length_cm</th>\n",
       "      <th>product_height_cm</th>\n",
       "      <th>product_width_cm</th>\n",
       "      <th>price</th>\n",
       "      <th>freight_value</th>\n",
       "      <th>distance</th>\n",
       "    </tr>\n",
       "  </thead>\n",
       "  <tbody>\n",
       "    <tr>\n",
       "      <th>0</th>\n",
       "      <td>e481f51cbdc54678b7cc49136f2d6af7</td>\n",
       "      <td>7c396fd4830fd04220f754e42b4e5bff</td>\n",
       "      <td>87285b34884572647811a353c7ac498a</td>\n",
       "      <td>3504c0cb71d7fa48d967e0e4c94d59d9</td>\n",
       "      <td>-23.576983</td>\n",
       "      <td>-46.587161</td>\n",
       "      <td>-23.680729</td>\n",
       "      <td>-46.444238</td>\n",
       "      <td>500.0</td>\n",
       "      <td>19.0</td>\n",
       "      <td>8.0</td>\n",
       "      <td>13.0</td>\n",
       "      <td>29.99</td>\n",
       "      <td>8.72</td>\n",
       "      <td>18.566632</td>\n",
       "    </tr>\n",
       "    <tr>\n",
       "      <th>1</th>\n",
       "      <td>128e10d95713541c87cd1a2e48201934</td>\n",
       "      <td>3a51803cc0d012c3b5dc8b7528cb05f7</td>\n",
       "      <td>87285b34884572647811a353c7ac498a</td>\n",
       "      <td>3504c0cb71d7fa48d967e0e4c94d59d9</td>\n",
       "      <td>-23.564630</td>\n",
       "      <td>-46.534268</td>\n",
       "      <td>-23.680729</td>\n",
       "      <td>-46.444238</td>\n",
       "      <td>500.0</td>\n",
       "      <td>19.0</td>\n",
       "      <td>8.0</td>\n",
       "      <td>13.0</td>\n",
       "      <td>29.99</td>\n",
       "      <td>7.78</td>\n",
       "      <td>15.803204</td>\n",
       "    </tr>\n",
       "    <tr>\n",
       "      <th>2</th>\n",
       "      <td>0e7e841ddf8f8f2de2bad69267ecfbcf</td>\n",
       "      <td>ef0996a1a279c26e7ecbd737be23d235</td>\n",
       "      <td>87285b34884572647811a353c7ac498a</td>\n",
       "      <td>3504c0cb71d7fa48d967e0e4c94d59d9</td>\n",
       "      <td>-23.600462</td>\n",
       "      <td>-46.655318</td>\n",
       "      <td>-23.680729</td>\n",
       "      <td>-46.444238</td>\n",
       "      <td>500.0</td>\n",
       "      <td>19.0</td>\n",
       "      <td>8.0</td>\n",
       "      <td>13.0</td>\n",
       "      <td>29.99</td>\n",
       "      <td>7.78</td>\n",
       "      <td>23.299562</td>\n",
       "    </tr>\n",
       "    <tr>\n",
       "      <th>3</th>\n",
       "      <td>bfc39df4f36c3693ff3b63fcbea9e90a</td>\n",
       "      <td>e781fdcc107d13d865fc7698711cc572</td>\n",
       "      <td>87285b34884572647811a353c7ac498a</td>\n",
       "      <td>3504c0cb71d7fa48d967e0e4c94d59d9</td>\n",
       "      <td>-27.528367</td>\n",
       "      <td>-48.491914</td>\n",
       "      <td>-23.680729</td>\n",
       "      <td>-46.444238</td>\n",
       "      <td>500.0</td>\n",
       "      <td>19.0</td>\n",
       "      <td>8.0</td>\n",
       "      <td>13.0</td>\n",
       "      <td>29.99</td>\n",
       "      <td>14.10</td>\n",
       "      <td>473.254397</td>\n",
       "    </tr>\n",
       "    <tr>\n",
       "      <th>4</th>\n",
       "      <td>53cdb2fc8bc7dce0b6741e2150273451</td>\n",
       "      <td>af07308b275d755c9edb36a90c618231</td>\n",
       "      <td>595fac2a385ac33a80bd5114aec74eb8</td>\n",
       "      <td>289cdb325fb7e7f891c38608bf9e0962</td>\n",
       "      <td>-12.177924</td>\n",
       "      <td>-44.660711</td>\n",
       "      <td>-19.807681</td>\n",
       "      <td>-43.980427</td>\n",
       "      <td>400.0</td>\n",
       "      <td>19.0</td>\n",
       "      <td>13.0</td>\n",
       "      <td>19.0</td>\n",
       "      <td>118.70</td>\n",
       "      <td>22.76</td>\n",
       "      <td>847.437333</td>\n",
       "    </tr>\n",
       "  </tbody>\n",
       "</table>\n",
       "</div>"
      ],
      "text/plain": [
       "                           order_id                customer_unique_id  \\\n",
       "0  e481f51cbdc54678b7cc49136f2d6af7  7c396fd4830fd04220f754e42b4e5bff   \n",
       "1  128e10d95713541c87cd1a2e48201934  3a51803cc0d012c3b5dc8b7528cb05f7   \n",
       "2  0e7e841ddf8f8f2de2bad69267ecfbcf  ef0996a1a279c26e7ecbd737be23d235   \n",
       "3  bfc39df4f36c3693ff3b63fcbea9e90a  e781fdcc107d13d865fc7698711cc572   \n",
       "4  53cdb2fc8bc7dce0b6741e2150273451  af07308b275d755c9edb36a90c618231   \n",
       "\n",
       "                         product_id                         seller_id  \\\n",
       "0  87285b34884572647811a353c7ac498a  3504c0cb71d7fa48d967e0e4c94d59d9   \n",
       "1  87285b34884572647811a353c7ac498a  3504c0cb71d7fa48d967e0e4c94d59d9   \n",
       "2  87285b34884572647811a353c7ac498a  3504c0cb71d7fa48d967e0e4c94d59d9   \n",
       "3  87285b34884572647811a353c7ac498a  3504c0cb71d7fa48d967e0e4c94d59d9   \n",
       "4  595fac2a385ac33a80bd5114aec74eb8  289cdb325fb7e7f891c38608bf9e0962   \n",
       "\n",
       "    cust_lat   cust_lng  seller_lat  seller_lng  product_weight_g  \\\n",
       "0 -23.576983 -46.587161  -23.680729  -46.444238             500.0   \n",
       "1 -23.564630 -46.534268  -23.680729  -46.444238             500.0   \n",
       "2 -23.600462 -46.655318  -23.680729  -46.444238             500.0   \n",
       "3 -27.528367 -48.491914  -23.680729  -46.444238             500.0   \n",
       "4 -12.177924 -44.660711  -19.807681  -43.980427             400.0   \n",
       "\n",
       "   product_length_cm  product_height_cm  product_width_cm   price  \\\n",
       "0               19.0                8.0              13.0   29.99   \n",
       "1               19.0                8.0              13.0   29.99   \n",
       "2               19.0                8.0              13.0   29.99   \n",
       "3               19.0                8.0              13.0   29.99   \n",
       "4               19.0               13.0              19.0  118.70   \n",
       "\n",
       "   freight_value    distance  \n",
       "0           8.72   18.566632  \n",
       "1           7.78   15.803204  \n",
       "2           7.78   23.299562  \n",
       "3          14.10  473.254397  \n",
       "4          22.76  847.437333  "
      ]
     },
     "execution_count": 246,
     "metadata": {},
     "output_type": "execute_result"
    }
   ],
   "source": [
    "def calc_dist(cust,sel):\n",
    "    return distance.geodesic(cust,sel).km\n",
    "\n",
    "df.dropna(subset= [\n",
    "    'cust_lat',\n",
    "    'cust_lng',\n",
    "    'seller_lat',\n",
    "    'seller_lng'\n",
    "], inplace= True)\n",
    "\n",
    "df['distance'] = df[[\n",
    "    'cust_lat',\n",
    "    'cust_lng',\n",
    "    'seller_lat',\n",
    "    'seller_lng'\n",
    "]].apply(lambda row: calc_dist((row.cust_lat,row.cust_lng),(row.seller_lat,row.seller_lng)), axis=1)\n",
    "\n",
    "df.head(5)"
   ]
  },
  {
   "cell_type": "markdown",
   "metadata": {},
   "source": [
    "For each product, the dimensions are given, length, height, width. These can be used to create another feature, which is the volume in cm<sup>3</sup> of the product. The volume is as important as the weight of the product. A light product can have larger volume and hence increased freight value."
   ]
  },
  {
   "cell_type": "code",
   "execution_count": 247,
   "metadata": {},
   "outputs": [
    {
     "data": {
      "text/html": [
       "<div>\n",
       "<style scoped>\n",
       "    .dataframe tbody tr th:only-of-type {\n",
       "        vertical-align: middle;\n",
       "    }\n",
       "\n",
       "    .dataframe tbody tr th {\n",
       "        vertical-align: top;\n",
       "    }\n",
       "\n",
       "    .dataframe thead th {\n",
       "        text-align: right;\n",
       "    }\n",
       "</style>\n",
       "<table border=\"1\" class=\"dataframe\">\n",
       "  <thead>\n",
       "    <tr style=\"text-align: right;\">\n",
       "      <th></th>\n",
       "      <th>order_id</th>\n",
       "      <th>customer_unique_id</th>\n",
       "      <th>product_id</th>\n",
       "      <th>seller_id</th>\n",
       "      <th>cust_lat</th>\n",
       "      <th>cust_lng</th>\n",
       "      <th>seller_lat</th>\n",
       "      <th>seller_lng</th>\n",
       "      <th>product_weight_g</th>\n",
       "      <th>product_length_cm</th>\n",
       "      <th>product_height_cm</th>\n",
       "      <th>product_width_cm</th>\n",
       "      <th>price</th>\n",
       "      <th>freight_value</th>\n",
       "      <th>distance</th>\n",
       "      <th>volume</th>\n",
       "    </tr>\n",
       "  </thead>\n",
       "  <tbody>\n",
       "    <tr>\n",
       "      <th>0</th>\n",
       "      <td>e481f51cbdc54678b7cc49136f2d6af7</td>\n",
       "      <td>7c396fd4830fd04220f754e42b4e5bff</td>\n",
       "      <td>87285b34884572647811a353c7ac498a</td>\n",
       "      <td>3504c0cb71d7fa48d967e0e4c94d59d9</td>\n",
       "      <td>-23.576983</td>\n",
       "      <td>-46.587161</td>\n",
       "      <td>-23.680729</td>\n",
       "      <td>-46.444238</td>\n",
       "      <td>500.0</td>\n",
       "      <td>19.0</td>\n",
       "      <td>8.0</td>\n",
       "      <td>13.0</td>\n",
       "      <td>29.99</td>\n",
       "      <td>8.72</td>\n",
       "      <td>18.566632</td>\n",
       "      <td>1976.0</td>\n",
       "    </tr>\n",
       "    <tr>\n",
       "      <th>1</th>\n",
       "      <td>128e10d95713541c87cd1a2e48201934</td>\n",
       "      <td>3a51803cc0d012c3b5dc8b7528cb05f7</td>\n",
       "      <td>87285b34884572647811a353c7ac498a</td>\n",
       "      <td>3504c0cb71d7fa48d967e0e4c94d59d9</td>\n",
       "      <td>-23.564630</td>\n",
       "      <td>-46.534268</td>\n",
       "      <td>-23.680729</td>\n",
       "      <td>-46.444238</td>\n",
       "      <td>500.0</td>\n",
       "      <td>19.0</td>\n",
       "      <td>8.0</td>\n",
       "      <td>13.0</td>\n",
       "      <td>29.99</td>\n",
       "      <td>7.78</td>\n",
       "      <td>15.803204</td>\n",
       "      <td>1976.0</td>\n",
       "    </tr>\n",
       "    <tr>\n",
       "      <th>2</th>\n",
       "      <td>0e7e841ddf8f8f2de2bad69267ecfbcf</td>\n",
       "      <td>ef0996a1a279c26e7ecbd737be23d235</td>\n",
       "      <td>87285b34884572647811a353c7ac498a</td>\n",
       "      <td>3504c0cb71d7fa48d967e0e4c94d59d9</td>\n",
       "      <td>-23.600462</td>\n",
       "      <td>-46.655318</td>\n",
       "      <td>-23.680729</td>\n",
       "      <td>-46.444238</td>\n",
       "      <td>500.0</td>\n",
       "      <td>19.0</td>\n",
       "      <td>8.0</td>\n",
       "      <td>13.0</td>\n",
       "      <td>29.99</td>\n",
       "      <td>7.78</td>\n",
       "      <td>23.299562</td>\n",
       "      <td>1976.0</td>\n",
       "    </tr>\n",
       "    <tr>\n",
       "      <th>3</th>\n",
       "      <td>bfc39df4f36c3693ff3b63fcbea9e90a</td>\n",
       "      <td>e781fdcc107d13d865fc7698711cc572</td>\n",
       "      <td>87285b34884572647811a353c7ac498a</td>\n",
       "      <td>3504c0cb71d7fa48d967e0e4c94d59d9</td>\n",
       "      <td>-27.528367</td>\n",
       "      <td>-48.491914</td>\n",
       "      <td>-23.680729</td>\n",
       "      <td>-46.444238</td>\n",
       "      <td>500.0</td>\n",
       "      <td>19.0</td>\n",
       "      <td>8.0</td>\n",
       "      <td>13.0</td>\n",
       "      <td>29.99</td>\n",
       "      <td>14.10</td>\n",
       "      <td>473.254397</td>\n",
       "      <td>1976.0</td>\n",
       "    </tr>\n",
       "    <tr>\n",
       "      <th>4</th>\n",
       "      <td>53cdb2fc8bc7dce0b6741e2150273451</td>\n",
       "      <td>af07308b275d755c9edb36a90c618231</td>\n",
       "      <td>595fac2a385ac33a80bd5114aec74eb8</td>\n",
       "      <td>289cdb325fb7e7f891c38608bf9e0962</td>\n",
       "      <td>-12.177924</td>\n",
       "      <td>-44.660711</td>\n",
       "      <td>-19.807681</td>\n",
       "      <td>-43.980427</td>\n",
       "      <td>400.0</td>\n",
       "      <td>19.0</td>\n",
       "      <td>13.0</td>\n",
       "      <td>19.0</td>\n",
       "      <td>118.70</td>\n",
       "      <td>22.76</td>\n",
       "      <td>847.437333</td>\n",
       "      <td>4693.0</td>\n",
       "    </tr>\n",
       "  </tbody>\n",
       "</table>\n",
       "</div>"
      ],
      "text/plain": [
       "                           order_id                customer_unique_id  \\\n",
       "0  e481f51cbdc54678b7cc49136f2d6af7  7c396fd4830fd04220f754e42b4e5bff   \n",
       "1  128e10d95713541c87cd1a2e48201934  3a51803cc0d012c3b5dc8b7528cb05f7   \n",
       "2  0e7e841ddf8f8f2de2bad69267ecfbcf  ef0996a1a279c26e7ecbd737be23d235   \n",
       "3  bfc39df4f36c3693ff3b63fcbea9e90a  e781fdcc107d13d865fc7698711cc572   \n",
       "4  53cdb2fc8bc7dce0b6741e2150273451  af07308b275d755c9edb36a90c618231   \n",
       "\n",
       "                         product_id                         seller_id  \\\n",
       "0  87285b34884572647811a353c7ac498a  3504c0cb71d7fa48d967e0e4c94d59d9   \n",
       "1  87285b34884572647811a353c7ac498a  3504c0cb71d7fa48d967e0e4c94d59d9   \n",
       "2  87285b34884572647811a353c7ac498a  3504c0cb71d7fa48d967e0e4c94d59d9   \n",
       "3  87285b34884572647811a353c7ac498a  3504c0cb71d7fa48d967e0e4c94d59d9   \n",
       "4  595fac2a385ac33a80bd5114aec74eb8  289cdb325fb7e7f891c38608bf9e0962   \n",
       "\n",
       "    cust_lat   cust_lng  seller_lat  seller_lng  product_weight_g  \\\n",
       "0 -23.576983 -46.587161  -23.680729  -46.444238             500.0   \n",
       "1 -23.564630 -46.534268  -23.680729  -46.444238             500.0   \n",
       "2 -23.600462 -46.655318  -23.680729  -46.444238             500.0   \n",
       "3 -27.528367 -48.491914  -23.680729  -46.444238             500.0   \n",
       "4 -12.177924 -44.660711  -19.807681  -43.980427             400.0   \n",
       "\n",
       "   product_length_cm  product_height_cm  product_width_cm   price  \\\n",
       "0               19.0                8.0              13.0   29.99   \n",
       "1               19.0                8.0              13.0   29.99   \n",
       "2               19.0                8.0              13.0   29.99   \n",
       "3               19.0                8.0              13.0   29.99   \n",
       "4               19.0               13.0              19.0  118.70   \n",
       "\n",
       "   freight_value    distance  volume  \n",
       "0           8.72   18.566632  1976.0  \n",
       "1           7.78   15.803204  1976.0  \n",
       "2           7.78   23.299562  1976.0  \n",
       "3          14.10  473.254397  1976.0  \n",
       "4          22.76  847.437333  4693.0  "
      ]
     },
     "execution_count": 247,
     "metadata": {},
     "output_type": "execute_result"
    }
   ],
   "source": [
    "df['volume'] = df.product_height_cm * df.product_length_cm * df.product_width_cm\n",
    "df.head(5)"
   ]
  },
  {
   "cell_type": "markdown",
   "metadata": {},
   "source": [
    "The next step is to analyze, the features and discover those features that can be important for the prediction.<br>\n",
    "\n",
    "For this purpose, the main metrics - distance, volume, weight, height, length, width, latitude and longitude are compared with the freight value, to see if they are correlated to the target. First, the distribution of all these varaibles have to be visualized to check whether to carry out a paramteric or non-parametric correlation test."
   ]
  },
  {
   "cell_type": "code",
   "execution_count": 248,
   "metadata": {},
   "outputs": [
    {
     "data": {
      "application/vnd.jupyter.widget-view+json": {
       "model_id": "9e9e6c116f5b4f86a8199b9dad79d0c2",
       "version_major": 2,
       "version_minor": 0
      },
      "text/plain": [
       "interactive(children=(Dropdown(description='column', options=('product_weight_g', 'product_length_cm', 'produc…"
      ]
     },
     "metadata": {},
     "output_type": "display_data"
    }
   ],
   "source": [
    "@interact\n",
    "def plot_hist(\n",
    "    column= ['product_weight_g', 'product_length_cm',\n",
    "            'product_height_cm','product_width_cm',\n",
    "            'distance','volume', 'freight_value', 'price']\n",
    "):\n",
    "    plt.figure(figsize= (12,8))\n",
    "    sns.distplot(df[column], kde= True)\n",
    "    plt.title('Histogram of {}'.format(column), fontdict= {'size':15})"
   ]
  },
  {
   "cell_type": "markdown",
   "metadata": {},
   "source": [
    "All the columns, show a histogram with a right/positive skew. They are nearly but not normal distribution. Hence the type of test chosen is a non-parametric test - Spearman's rank correlation test, which calculates Pearson's correlation using rank values instead of covariance (expected difference of observation from mean)."
   ]
  },
  {
   "cell_type": "code",
   "execution_count": 249,
   "metadata": {},
   "outputs": [
    {
     "data": {
      "application/vnd.jupyter.widget-view+json": {
       "model_id": "9b28ef94815d4012bb3bd184fb58fd37",
       "version_major": 2,
       "version_minor": 0
      },
      "text/plain": [
       "interactive(children=(Dropdown(description='column', options=('product_weight_g', 'product_length_cm', 'produc…"
      ]
     },
     "metadata": {},
     "output_type": "display_data"
    }
   ],
   "source": [
    "df.dropna(inplace= True)\n",
    "\n",
    "@interact\n",
    "def calc_corr(\n",
    "    column= ['product_weight_g', 'product_length_cm',\n",
    "            'product_height_cm','product_width_cm',\n",
    "            'distance','volume', 'cust_lat','cust_lng',\n",
    "            'seller_lat','seller_lng','price']\n",
    "):\n",
    "    print(\"Correlation: {}\".format(spearmanr(df[column],df.freight_value)))\n",
    "    print(\"Percentage of variablity shared: {}\".format(\n",
    "        round((spearmanr(df[column],df.freight_value).correlation ** 2)*100,2)\n",
    "    ))"
   ]
  },
  {
   "cell_type": "markdown",
   "metadata": {},
   "source": [
    "All the attributes/columns show a postive and high correlation with the freight value of the product. The latitude and longitude values show slightly less correlation as compared to the others, with longitude among them even showing negative correlation.<br>\n",
    "\n",
    "The observation made -\n",
    "* The dimensions of a product are positively correlated with the freight value, with a medium score (neighbourhood of 0.3 and 8% variability).\n",
    "* The weight and volume of a product are positively correlated with scores higher that the dimensions (neighbourhood of 0.4 and between 10% to 20% variability)\n",
    "* The distance shows the maximum positive correlation, about 0.6 with a 40% variability.\n",
    "\n",
    "These observations are the basis of selecting the features for predictive modeling.<br>\n",
    "Further PCA is used to reduce dimensionality of the data, so it can be visualized. For application of PCA, the concerned columns have to first Standardized, as scale has an effect on PCA. The columns, chosen to be apt features for the predictive model are following :-\n",
    "* length\n",
    "* height\n",
    "* width\n",
    "* volume\n",
    "* weight\n",
    "* distance\n",
    "* price\n",
    "\n",
    "The latitude and longitude values are not considered as they shows close to 0 correlation."
   ]
  },
  {
   "cell_type": "code",
   "execution_count": 250,
   "metadata": {},
   "outputs": [
    {
     "name": "stdout",
     "output_type": "stream",
     "text": [
      "Variance explained by each component: [0.30021166]\n"
     ]
    },
    {
     "data": {
      "text/html": [
       "<div>\n",
       "<style scoped>\n",
       "    .dataframe tbody tr th:only-of-type {\n",
       "        vertical-align: middle;\n",
       "    }\n",
       "\n",
       "    .dataframe tbody tr th {\n",
       "        vertical-align: top;\n",
       "    }\n",
       "\n",
       "    .dataframe thead th {\n",
       "        text-align: right;\n",
       "    }\n",
       "</style>\n",
       "<table border=\"1\" class=\"dataframe\">\n",
       "  <thead>\n",
       "    <tr style=\"text-align: right;\">\n",
       "      <th></th>\n",
       "      <th>component_1</th>\n",
       "    </tr>\n",
       "  </thead>\n",
       "  <tbody>\n",
       "    <tr>\n",
       "      <th>0</th>\n",
       "      <td>-1.441653</td>\n",
       "    </tr>\n",
       "    <tr>\n",
       "      <th>1</th>\n",
       "      <td>-1.441778</td>\n",
       "    </tr>\n",
       "    <tr>\n",
       "      <th>2</th>\n",
       "      <td>-1.441488</td>\n",
       "    </tr>\n",
       "    <tr>\n",
       "      <th>3</th>\n",
       "      <td>-1.433274</td>\n",
       "    </tr>\n",
       "    <tr>\n",
       "      <th>4</th>\n",
       "      <td>-1.043287</td>\n",
       "    </tr>\n",
       "  </tbody>\n",
       "</table>\n",
       "</div>"
      ],
      "text/plain": [
       "   component_1\n",
       "0    -1.441653\n",
       "1    -1.441778\n",
       "2    -1.441488\n",
       "3    -1.433274\n",
       "4    -1.043287"
      ]
     },
     "execution_count": 250,
     "metadata": {},
     "output_type": "execute_result"
    }
   ],
   "source": [
    "cols = [\n",
    "    'product_weight_g',\n",
    "    'product_length_cm',\n",
    "    'product_height_cm',\n",
    "    'product_width_cm',\n",
    "    'distance',\n",
    "    'volume',\n",
    "    'price',\n",
    "    'cust_lat',\n",
    "    'cust_lng',\n",
    "    'seller_lat',\n",
    "    'seller_lng'\n",
    "]\n",
    "\n",
    "scaler = StandardScaler()\n",
    "scaled = scaler.fit_transform(df[cols])\n",
    "\n",
    "pca = PCA(n_components= 1)\n",
    "reduced = pca.fit_transform(scaled)\n",
    "pca_df = pd.DataFrame(reduced, columns= ['component_1'])\n",
    "print(\"Variance explained by each component: {}\".format(pca.explained_variance_ratio_))\n",
    "pca_df.head(5)"
   ]
  },
  {
   "cell_type": "markdown",
   "metadata": {},
   "source": [
    "The Principle component analysis, has reduced the dimensionality of the dataset from 6 to 1. The variance explained by the two dimensions together is about 52% which is very good given the degree of reduction. The two components are visualized below in a scatter plot,"
   ]
  },
  {
   "cell_type": "code",
   "execution_count": 251,
   "metadata": {},
   "outputs": [
    {
     "data": {
      "text/plain": [
       "<seaborn.axisgrid.FacetGrid at 0x7f106aacf160>"
      ]
     },
     "execution_count": 251,
     "metadata": {},
     "output_type": "execute_result"
    },
    {
     "data": {
      "text/plain": [
       "<Figure size 864x576 with 0 Axes>"
      ]
     },
     "metadata": {},
     "output_type": "display_data"
    },
    {
     "data": {
      "image/png": "[encoded data removed]",
      "text/plain": [
       "<Figure size 1152x576 with 1 Axes>"
      ]
     },
     "metadata": {
      "needs_background": "light"
     },
     "output_type": "display_data"
    }
   ],
   "source": [
    "tmp = pd.concat([pca_df,df.freight_value], axis=1)\n",
    "\n",
    "plt.figure(figsize= (12,8))\n",
    "sns.lmplot(\n",
    "    data=tmp.sample(frac=0.15, random_state= 5),\n",
    "    x= 'component_1',\n",
    "    y= 'freight_value',\n",
    "    legend= True,\n",
    "    height= 8,\n",
    "    aspect= 2\n",
    ")"
   ]
  },
  {
   "cell_type": "markdown",
   "metadata": {},
   "source": [
    "All the columns are also plotted against, the target variable freight_value below."
   ]
  },
  {
   "cell_type": "code",
   "execution_count": 252,
   "metadata": {},
   "outputs": [
    {
     "data": {
      "application/vnd.jupyter.widget-view+json": {
       "model_id": "d1fd2e690463494d8cec42c705add825",
       "version_major": 2,
       "version_minor": 0
      },
      "text/plain": [
       "interactive(children=(Dropdown(description='column', options=('product_weight_g', 'product_length_cm', 'produc…"
      ]
     },
     "metadata": {},
     "output_type": "display_data"
    }
   ],
   "source": [
    "@interact\n",
    "def plot_lm(\n",
    "    column= ['product_weight_g', 'product_length_cm',\n",
    "            'product_height_cm','product_width_cm',\n",
    "            'distance','volume', 'cust_lat','cust_lng',\n",
    "            'seller_lat','seller_lng','price']\n",
    "):\n",
    "    sns.lmplot(data= df, x= column, y= 'freight_value', aspect= 2, height= 8)\n",
    "    plt.title('Linear model plot of {}'.format(column), fontdict= {'size':15})"
   ]
  },
  {
   "cell_type": "markdown",
   "metadata": {},
   "source": [
    "The lmplot, plotting a Linear regression line on the reduced 2D data and individual columns, doesnt look very promising. It shows that the component of PCA and individual columns share a slight linear relationship.<br>\n",
    "\n",
    "The PCA data is also appended to the 6 columns, as derived features.<br>\n",
    "\n",
    "The next step, is to prepare the dataset for training and testing. The 6 columns chosen as features are already scaled using a StandardScaler. The scaled data is split into train and test set. "
   ]
  },
  {
   "cell_type": "code",
   "execution_count": 253,
   "metadata": {},
   "outputs": [],
   "source": [
    "scaled = pd.DataFrame(scaled, columns = cols)\n",
    "X = pd.concat([scaled,pca_df], axis=1)\n",
    "y = df.freight_value\n",
    "\n",
    "X_train, X_test,y_train,y_test = train_test_split(X,y,random_state= 1)"
   ]
  },
  {
   "cell_type": "markdown",
   "metadata": {},
   "source": [
    "A 7-fold cross validation is performed on a LinearRegression model, with the scoring metrics as MAE, RMSE and R-squared."
   ]
  },
  {
   "cell_type": "code",
   "execution_count": 254,
   "metadata": {},
   "outputs": [
    {
     "name": "stderr",
     "output_type": "stream",
     "text": [
      "[Parallel(n_jobs=-1)]: Using backend LokyBackend with 4 concurrent workers.\n"
     ]
    },
    {
     "name": "stdout",
     "output_type": "stream",
     "text": [
      "Average mean absolute error across k-folds: -5.285396629449821\n",
      "Average root mean square error across k-folds: -10.01777169723435\n",
      "Average r-squared across k-folds: 0.5851287896610581\n"
     ]
    },
    {
     "name": "stderr",
     "output_type": "stream",
     "text": [
      "[Parallel(n_jobs=-1)]: Done   3 out of   7 | elapsed:    3.2s remaining:    4.3s\n",
      "[Parallel(n_jobs=-1)]: Done   7 out of   7 | elapsed:    3.3s finished\n"
     ]
    }
   ],
   "source": [
    "values = cross_validate(\n",
    "    LinearRegression(),\n",
    "    X= X,\n",
    "    y= y,\n",
    "    scoring= ['neg_mean_absolute_error','neg_root_mean_squared_error','r2'],\n",
    "    cv= 7,\n",
    "    n_jobs= -1,\n",
    "    verbose= 3\n",
    ")\n",
    "\n",
    "print(\"Average mean absolute error across k-folds: {}\".format(np.mean(values['test_neg_mean_absolute_error'])))\n",
    "print(\"Average root mean square error across k-folds: {}\".format(np.mean(values['test_neg_root_mean_squared_error'])))\n",
    "print(\"Average r-squared across k-folds: {}\".format(np.mean(values['test_r2'])))"
   ]
  },
  {
   "cell_type": "markdown",
   "metadata": {},
   "source": [
    "The metrics show that MAE and RMSE are quite a lot given that values for freight cost predominantly lie between 5 to 30. The R-squared shows that the independent variables only explain about 58% of the variance in the target value.<br>\n",
    "Overall the model is a bad fit. "
   ]
  },
  {
   "cell_type": "code",
   "execution_count": 255,
   "metadata": {},
   "outputs": [
    {
     "name": "stdout",
     "output_type": "stream",
     "text": [
      "intercept: 20.126363591111833\n",
      "product_weight_g: 4.315653269687464\n",
      "product_length_cm: -1.456824435949982\n",
      "product_height_cm: -3.058577309522259\n",
      "product_width_cm: -2.448345774227055\n",
      "distance: 6.211403984690808\n",
      "volume: 5.296122894314587\n",
      "price: 2.492202533985378\n",
      "cust_lat: -0.30024241970813287\n",
      "cust_lng: 0.2331449986572526\n",
      "seller_lat: 0.3255035144236375\n",
      "seller_lng: -0.1465831773862257\n",
      "component_1: 2.634352911526346\n"
     ]
    }
   ],
   "source": [
    "mod = LinearRegression()\n",
    "mod.fit(X_train,y_train)\n",
    "\n",
    "print(\"intercept: {}\".format(mod.intercept_))\n",
    "for col,coef in zip(X.columns,mod.coef_):\n",
    "    print(\"{}: {}\".format(col,coef))"
   ]
  },
  {
   "cell_type": "markdown",
   "metadata": {},
   "source": [
    "The problem can be seen here. The coefficients for each column are large either on the postive side or negative side. To deal with this regularization needs to be performed. Two models offer regularization capabilites - Lasso and Ridge regression.<br>\n",
    "\n",
    "Ridge uses L2 regularization, whereis the square of the coefficients is used as penalty for the cost function. Lasso uses L1 regularization, where the penalty is just the absolute value of coefficients. Due to this Lasso also results in some features having a coefficient of 0 and there by indirectly perform feature selection.<br>\n",
    "\n",
    "First the Lasso is tested. LassoCV performs cross validation and search on parameters tor return the best model."
   ]
  },
  {
   "cell_type": "code",
   "execution_count": 256,
   "metadata": {},
   "outputs": [
    {
     "name": "stdout",
     "output_type": "stream",
     "text": [
      "Train R2: 0.599707954096099\n",
      "Test R2: 0.6045190715388251\n",
      "\n",
      "intercept: 20.104742063686764\n",
      "product_weight_g: 6.728686577755517\n",
      "product_length_cm: 0.47746179747574163\n",
      "product_height_cm: -1.0145692442856855\n",
      "product_width_cm: -0.36551267805464827\n",
      "distance: 6.182662411520607\n",
      "volume: 8.155337113575978\n",
      "price: 3.659325096727822\n",
      "cust_lat: -0.34285206941867885\n",
      "cust_lng: 0.14310826422530704\n",
      "seller_lat: 0.14919592618990712\n",
      "seller_lng: -0.2837492413164702\n",
      "component_1: -2.655568610548642\n"
     ]
    },
    {
     "name": "stderr",
     "output_type": "stream",
     "text": [
      "/home/raj/anaconda3/envs/r_env/lib/python3.8/site-packages/sklearn/linear_model/_coordinate_descent.py:474: ConvergenceWarning: Objective did not converge. You might want to increase the number of iterations. Duality gap: 1017464.0136102466, tolerance: 2575.8276549645143\n",
      "  model = cd_fast.enet_coordinate_descent(\n"
     ]
    }
   ],
   "source": [
    "lmod = LassoCV(alphas= [0.001,0.01,0.1,1,10], n_alphas=5,n_jobs= -1, random_state= 5, cv= 7)\n",
    "lmod.fit(X,y)\n",
    "\n",
    "print(\"Train R2: {}\".format(lmod.score(X_train,y_train)))\n",
    "print(\"Test R2: {}\\n\".format(lmod.score(X_test,y_test)))\n",
    "print(\"intercept: {}\".format(lmod.intercept_))\n",
    "for col,coef in zip(X.columns,lmod.coef_):\n",
    "    print(\"{}: {}\".format(col,coef))"
   ]
  },
  {
   "cell_type": "markdown",
   "metadata": {},
   "source": [
    "The coefficients are now smaller as compared to normal Linear regression, yet the R-squared score has not increased. The model is still a bad fit on the data.<br>\n",
    "\n",
    "The Ridge model is tested lastly, RidgeCV also perform cross validation and grid search for optimal parameters to return the best model."
   ]
  },
  {
   "cell_type": "code",
   "execution_count": 257,
   "metadata": {},
   "outputs": [
    {
     "name": "stdout",
     "output_type": "stream",
     "text": [
      "Train R2: 0.5997086642261844\n",
      "Test R2: 0.6045172403659007\n",
      "\n",
      "intercept: 20.104742063686764\n",
      "product_weight_g: 4.213249642559206\n",
      "product_length_cm: -1.4484839307696449\n",
      "product_height_cm: -3.071459273045646\n",
      "product_width_cm: -2.4931964438797802\n",
      "distance: 6.210999751251229\n",
      "volume: 5.421949553832589\n",
      "price: 2.438213293265794\n",
      "cust_lat: -0.2882778942359793\n",
      "cust_lng: 0.1948909430872652\n",
      "seller_lat: 0.32614444511288077\n",
      "seller_lng: -0.13899707762859095\n",
      "component_1: 2.618112475182654\n"
     ]
    }
   ],
   "source": [
    "rmod = RidgeCV(cv= 7)\n",
    "rmod.fit(X,y)\n",
    "\n",
    "print(\"Train R2: {}\".format(rmod.score(X_train,y_train)))\n",
    "print(\"Test R2: {}\\n\".format(rmod.score(X_test,y_test)))\n",
    "print(\"intercept: {}\".format(rmod.intercept_))\n",
    "for col,coef in zip(X.columns,rmod.coef_):\n",
    "    print(\"{}: {}\".format(col,coef))"
   ]
  },
  {
   "cell_type": "markdown",
   "metadata": {},
   "source": [
    "The coefficients are even smaller as compared to Lasso, but the R-squared score has not improved for the model. These 3 models - LinearRegression, Lasso and Ridge show that there is no apparent linear relationship between the predictors and target varible.<br>\n",
    "\n",
    "The assumption that all features are directly share a linear relationship with the dependent variable has not yielded good results. Hence the next two models are tree based Regressors. Tree based regressors do not assume a linear relationship, rather the trees are built on the data and the final output is the mean of the prediction of all trees. <br>\n",
    "\n",
    "The first to be tested is the RandomForestRegressor."
   ]
  },
  {
   "cell_type": "code",
   "execution_count": 259,
   "metadata": {},
   "outputs": [
    {
     "name": "stderr",
     "output_type": "stream",
     "text": [
      "[Parallel(n_jobs=1)]: Using backend SequentialBackend with 1 concurrent workers.\n"
     ]
    },
    {
     "name": "stdout",
     "output_type": "stream",
     "text": [
      "[CV]  ................................................................\n",
      "[CV]  , neg_mean_absolute_error=-4.118, neg_root_mean_squared_error=-8.025, r2=0.629, total= 5.2min\n",
      "[CV]  ................................................................\n"
     ]
    },
    {
     "name": "stderr",
     "output_type": "stream",
     "text": [
      "[Parallel(n_jobs=1)]: Done   1 out of   1 | elapsed:  5.2min remaining:    0.0s\n"
     ]
    },
    {
     "name": "stdout",
     "output_type": "stream",
     "text": [
      "[CV]  , neg_mean_absolute_error=-3.990, neg_root_mean_squared_error=-9.221, r2=0.656, total= 4.9min\n",
      "[CV]  ................................................................\n"
     ]
    },
    {
     "name": "stderr",
     "output_type": "stream",
     "text": [
      "[Parallel(n_jobs=1)]: Done   2 out of   2 | elapsed: 10.1min remaining:    0.0s\n"
     ]
    },
    {
     "name": "stdout",
     "output_type": "stream",
     "text": [
      "[CV]  , neg_mean_absolute_error=-4.339, neg_root_mean_squared_error=-9.876, r2=0.710, total= 4.7min\n"
     ]
    },
    {
     "name": "stderr",
     "output_type": "stream",
     "text": [
      "[Parallel(n_jobs=1)]: Done   3 out of   3 | elapsed: 14.8min remaining:    0.0s\n",
      "[Parallel(n_jobs=1)]: Done   3 out of   3 | elapsed: 14.8min finished\n"
     ]
    },
    {
     "name": "stdout",
     "output_type": "stream",
     "text": [
      "\n",
      "Average mean absolute error across k-folds: -4.1486575563399155\n",
      "Average root mean square error across k-folds: -9.040968656130149\n",
      "Average r-squared across k-folds: 0.6648417328596358\n"
     ]
    }
   ],
   "source": [
    "values = cross_validate(\n",
    "    RandomForestRegressor(n_estimators= 400),\n",
    "    X= X,\n",
    "    y= y,\n",
    "    scoring= ['neg_mean_absolute_error','neg_root_mean_squared_error','r2'],\n",
    "    cv= 3,\n",
    "    verbose= 10,\n",
    ")\n",
    "\n",
    "print(\"\\nAverage mean absolute error across k-folds: {}\".format(np.mean(values['test_neg_mean_absolute_error'])))\n",
    "print(\"Average root mean square error across k-folds: {}\".format(np.mean(values['test_neg_root_mean_squared_error'])))\n",
    "print(\"Average r-squared across k-folds: {}\".format(np.mean(values['test_r2'])))"
   ]
  },
  {
   "cell_type": "markdown",
   "metadata": {},
   "source": [
    "The RandomForestRegressor achieves good MAE and RMSE values as compared to the Linear Regression models. The R-squared value across the k-folds has also improved from a 56% to 66%. The RandomForestRegressor can account for 66% of variance of the dependent variables (freight value) with the given independent variable.\n",
    "\n",
    "The next model is GradientBoostingRegressor."
   ]
  },
  {
   "cell_type": "code",
   "execution_count": 260,
   "metadata": {},
   "outputs": [
    {
     "name": "stderr",
     "output_type": "stream",
     "text": [
      "[Parallel(n_jobs=1)]: Using backend SequentialBackend with 1 concurrent workers.\n"
     ]
    },
    {
     "name": "stdout",
     "output_type": "stream",
     "text": [
      "[CV]  ................................................................\n",
      "[CV]  , neg_mean_absolute_error=-4.135, neg_root_mean_squared_error=-7.857, r2=0.644, total= 2.8min\n",
      "[CV]  ................................................................\n"
     ]
    },
    {
     "name": "stderr",
     "output_type": "stream",
     "text": [
      "[Parallel(n_jobs=1)]: Done   1 out of   1 | elapsed:  2.8min remaining:    0.0s\n"
     ]
    },
    {
     "name": "stdout",
     "output_type": "stream",
     "text": [
      "[CV]  , neg_mean_absolute_error=-4.067, neg_root_mean_squared_error=-9.225, r2=0.656, total= 2.9min\n",
      "[CV]  ................................................................\n"
     ]
    },
    {
     "name": "stderr",
     "output_type": "stream",
     "text": [
      "[Parallel(n_jobs=1)]: Done   2 out of   2 | elapsed:  5.7min remaining:    0.0s\n"
     ]
    },
    {
     "name": "stdout",
     "output_type": "stream",
     "text": [
      "[CV]  , neg_mean_absolute_error=-4.353, neg_root_mean_squared_error=-9.824, r2=0.713, total= 2.8min\n",
      "\n",
      "Average mean absolute error across k-folds: -4.185130576635187\n",
      "Average root mean square error across k-folds: -8.968702154063493\n",
      "Average r-squared across k-folds: 0.6708987657524141\n"
     ]
    },
    {
     "name": "stderr",
     "output_type": "stream",
     "text": [
      "[Parallel(n_jobs=1)]: Done   3 out of   3 | elapsed:  8.4min remaining:    0.0s\n",
      "[Parallel(n_jobs=1)]: Done   3 out of   3 | elapsed:  8.4min finished\n"
     ]
    }
   ],
   "source": [
    "values = cross_validate(\n",
    "    GradientBoostingRegressor(n_estimators= 1000, learning_rate= 0.05),\n",
    "    X= X,\n",
    "    y= y,\n",
    "    scoring= ['neg_mean_absolute_error','neg_root_mean_squared_error','r2'],\n",
    "    cv= 3,\n",
    "    verbose= 10\n",
    ")\n",
    "\n",
    "print(\"\\nAverage mean absolute error across k-folds: {}\".format(np.mean(values['test_neg_mean_absolute_error'])))\n",
    "print(\"Average root mean square error across k-folds: {}\".format(np.mean(values['test_neg_root_mean_squared_error'])))\n",
    "print(\"Average r-squared across k-folds: {}\".format(np.mean(values['test_r2'])))"
   ]
  },
  {
   "cell_type": "markdown",
   "metadata": {},
   "source": [
    "The GradientBoostingRegressor achieves slightly better R-squared than the RandomForest varient. Thus out of all the models tested, the GradientBoostingRegressor is chosen. The model is trained on the train set with varying number of estimators, the test score of each model is plotted against the estimators, to select the optimal one."
   ]
  },
  {
   "cell_type": "code",
   "execution_count": 149,
   "metadata": {},
   "outputs": [
    {
     "data": {
      "text/plain": [
       "Text(0.5, 1.0, 'Test scores for different number of estimators')"
      ]
     },
     "execution_count": 149,
     "metadata": {},
     "output_type": "execute_result"
    },
    {
     "data": {
      "image/png": "[encoded data removed]",
      "text/plain": [
       "<Figure size 864x576 with 1 Axes>"
      ]
     },
     "metadata": {
      "needs_background": "light"
     },
     "output_type": "display_data"
    }
   ],
   "source": [
    "def fit_model(n):\n",
    "    gb = GradientBoostingRegressor(n_estimators= n, learning_rate= 0.05, random_state= 5)\n",
    "    gb.fit(X_train, y_train)\n",
    "    return gb.score(X_test,y_test)\n",
    "\n",
    "test_scores = []\n",
    "estimators = np.arange(100,2000,100)\n",
    "for i in estimators:\n",
    "    test_scores.append(fit_model(i))\n",
    "    \n",
    "plt.figure(figsize= (12,8))\n",
    "sns.lineplot(x= estimators, y= test_scores)\n",
    "plt.title('Test scores for different number of estimators', fontdict= {'size':15})"
   ]
  },
  {
   "cell_type": "markdown",
   "metadata": {},
   "source": [
    "The n_estimators with a value of 1000 looks good as it achieves a peak after constant growth and then stabilizes for some future values. After this even though the scores go up, they may account to overfitting and hence is not considered. The value of 1000 for n_estimators is taken to be as final.<br>"
   ]
  },
  {
   "cell_type": "code",
   "execution_count": 261,
   "metadata": {},
   "outputs": [
    {
     "name": "stdout",
     "output_type": "stream",
     "text": [
      "Train score: 0.7938718968817781\n",
      "Test score: 0.73097714974654\n"
     ]
    }
   ],
   "source": [
    "gb = GradientBoostingRegressor(n_estimators= 800, learning_rate= 0.05, random_state= 5)\n",
    "gb.fit(X_train, y_train)\n",
    "\n",
    "print(\"Train score: {}\".format(gb.score(X_train, y_train)))\n",
    "print(\"Test score: {}\".format(gb.score(X_test, y_test)))"
   ]
  },
  {
   "cell_type": "markdown",
   "metadata": {},
   "source": [
    "The model shows a significant rise in the R-squared value with around 71%. To visualize the predicted value, a scatter plot is made below. It plots the predicted values vs the actual values. Ideally, for a 100% accurate prediction, the dots should lie on the 45 deg line. The deviation of the predicted values from the said line, can testify how well/bad has the model performed."
   ]
  },
  {
   "cell_type": "code",
   "execution_count": 282,
   "metadata": {},
   "outputs": [
    {
     "data": {
      "text/plain": [
       "Text(0.5, 1.0, 'Predicted value vs Actual value')"
      ]
     },
     "execution_count": 282,
     "metadata": {},
     "output_type": "execute_result"
    },
    {
     "data": {
      "image/png": "[encoded data removed]",
      "text/plain": [
       "<Figure size 864x576 with 1 Axes>"
      ]
     },
     "metadata": {
      "needs_background": "light"
     },
     "output_type": "display_data"
    }
   ],
   "source": [
    "pred = gb.predict(X_test)\n",
    "tmp = pd.concat([y_test,pd.Series(pred, index= y_test.index)],axis=1).rename(columns= {0:'pred'}).sample(frac=0.25)\n",
    "\n",
    "plt.figure(figsize= (12,8))\n",
    "sns.scatterplot(data=tmp ,x= 'freight_value', y= 'pred')\n",
    "plt.plot(np.arange(0,350,1), np.arange(0,350,1), color= 'red', linestyle= '--')\n",
    "plt.title('Predicted value vs Actual value', fontdict= {'size':15})"
   ]
  },
  {
   "cell_type": "markdown",
   "metadata": {},
   "source": [
    "The plot shows that most predicted values do differ from the reference line. Specially as the actual value increases, the predicted value differes further. To gain better intuition, the residuals (error between predicted adn actual value) are plotted against the predicted values by the model."
   ]
  },
  {
   "cell_type": "code",
   "execution_count": 265,
   "metadata": {},
   "outputs": [
    {
     "data": {
      "text/plain": [
       "<matplotlib.lines.Line2D at 0x7f1074db2970>"
      ]
     },
     "execution_count": 265,
     "metadata": {},
     "output_type": "execute_result"
    },
    {
     "data": {
      "image/png": "[encoded data removed]",
      "text/plain": [
       "<Figure size 864x576 with 1 Axes>"
      ]
     },
     "metadata": {
      "needs_background": "light"
     },
     "output_type": "display_data"
    }
   ],
   "source": [
    "residuals_test = y_test - pred\n",
    "residuals_train = y_train - gb.predict(X_train)\n",
    "\n",
    "plt.figure(figsize= (12,8))\n",
    "sns.scatterplot(x= pred, y= residuals_test)\n",
    "plt.axhline(0, c= 'red', linestyle= '--')"
   ]
  },
  {
   "cell_type": "markdown",
   "metadata": {},
   "source": [
    "The residual plot shows that the residuals/errors are randomly distributed around the zero line. Based on the two plots, the residual plot and the predicted vs actual values, the model is not very accurate in predicting the freight values.<br>\n",
    "\n",
    "To test the goodness of the fit, the following methods are applied:- \n",
    "* Test normality of residuals\n",
    "* Test significance of mean between training residuals and test residuals\n",
    "* Test significance of variance between training residuals and test residuals\n",
    "\n",
    "To test the normality of residuals, One sample Student's t-test is performed.<br>\n",
    "\n",
    "Null hypothesis - The mean of the sample is equal to the population mean<br>\n",
    "Alternative hypothesis - The mean of the sample is significant from the population mean"
   ]
  },
  {
   "cell_type": "code",
   "execution_count": 266,
   "metadata": {},
   "outputs": [
    {
     "data": {
      "text/plain": [
       "Ttest_1sampResult(statistic=-1.7775710450649203, pvalue=0.07548625930841611)"
      ]
     },
     "execution_count": 266,
     "metadata": {},
     "output_type": "execute_result"
    }
   ],
   "source": [
    "ttest_1samp(residuals_test,0)"
   ]
  },
  {
   "cell_type": "markdown",
   "metadata": {},
   "source": [
    "The p-value of 0.075, greater than 0.05 indicates that the null hypothesis cannot be rejected. Hence the mean of the residuals is equal to population mean, here zero (0).<br>\n",
    "\n",
    "The next step is to test the mean of residuals of training and test predictions. Welch's t-test is used for this. <br>\n",
    "\n",
    "Null hypothesis - The mean of the two samples are identical<br>\n",
    "Alternate hypothesis - The means of the two samples differ<br>\n",
    "\n",
    "The test assumes that they have equal variances."
   ]
  },
  {
   "cell_type": "code",
   "execution_count": 268,
   "metadata": {},
   "outputs": [
    {
     "data": {
      "text/plain": [
       "Ttest_indResult(statistic=-1.6677505413544513, pvalue=0.09536833032437417)"
      ]
     },
     "execution_count": 268,
     "metadata": {},
     "output_type": "execute_result"
    }
   ],
   "source": [
    "ttest_ind(residuals_test,residuals_train)"
   ]
  },
  {
   "cell_type": "markdown",
   "metadata": {},
   "source": [
    "The p-value of 0.09 is greater than 0.05 and hence the Null hypothesis cannot be rejected. The mean of the test residuals is equal to the mean of the training residuals.<br>\n",
    "\n",
    "Next is to test the variance between the residuals of test and training phazes. The variance of test residuals closer to training residuals is a favorable condition. The F-test is carried out to test the significance in the means of the two samples by comparing the variance. F-test works on samples that are normally distributed, hence the first step is to test normality using a Shapiro-Wilks test.\n",
    "If the p-value is greater than 0.05 then we reject the normality of the sample."
   ]
  },
  {
   "cell_type": "code",
   "execution_count": 276,
   "metadata": {},
   "outputs": [
    {
     "name": "stdout",
     "output_type": "stream",
     "text": [
      "training residuals:  (0.699959397315979, 0.0)\n",
      "test residuals:  (0.6568727493286133, 0.0)\n"
     ]
    }
   ],
   "source": [
    "print(\"training residuals: \", shapiro(residuals_train))\n",
    "print(\"test residuals: \", shapiro(residuals_test))"
   ]
  },
  {
   "cell_type": "markdown",
   "metadata": {},
   "source": [
    "The p-value lesser than 0.05 indicates that both the distributions follow normality. Hence the F-test can now be conducted on the samples. One-way ANOVA test is used for this.<br>\n",
    "\n",
    "Null hypothesis - The two samples have identical means<br>\n",
    "Alternate hypothesis - The two samples significantly differ in means\n",
    "\n"
   ]
  },
  {
   "cell_type": "code",
   "execution_count": 280,
   "metadata": {},
   "outputs": [
    {
     "data": {
      "text/plain": [
       "F_onewayResult(statistic=2.781391868188062, pvalue=0.09536833033141338)"
      ]
     },
     "execution_count": 280,
     "metadata": {},
     "output_type": "execute_result"
    }
   ],
   "source": [
    "f_oneway(residuals_test, residuals_train)"
   ]
  },
  {
   "cell_type": "markdown",
   "metadata": {},
   "source": [
    "The F-test by ANOVA, gives a p-value of 0.09, which is greater than 0.05 and hence we fail to reject the Null hypothesis. The means of the two samples explained by their variance is identical."
   ]
  },
  {
   "cell_type": "markdown",
   "metadata": {},
   "source": [
    "The tests performed along with the R-squared value of 73% achieved by the tuned model on train set show that the model trained is a good fit on the data and performs fairly well. This model is hence chosen to be the final model."
   ]
  }
 ],
 "metadata": {
  "kernelspec": {
   "display_name": "Python 3",
   "language": "python",
   "name": "python3"
  },
  "language_info": {
   "codemirror_mode": {
    "name": "ipython",
    "version": 3
   },
   "file_extension": ".py",
   "mimetype": "text/x-python",
   "name": "python",
   "nbconvert_exporter": "python",
   "pygments_lexer": "ipython3",
   "version": "3.8.2"
  },
  "widgets": {
   "application/vnd.jupyter.widget-state+json": {
    "state": {
     "003cb66582ec44499042c9d14d7afddd": {
      "model_module": "@jupyter-widgets/controls",
      "model_module_version": "1.5.0",
      "model_name": "DropdownModel",
      "state": {
       "_options_labels": [
        "product_weight_g",
        "product_length_cmproduct_height_cm",
        "product_width_cm",
        "distance",
        "volume"
       ],
       "description": "column",
       "index": 0,
       "layout": "IPY_MODEL_2055109f8bbc414f9acc224e8b93762f",
       "style": "IPY_MODEL_67f8311ce7b94b77b334607488b90a26"
      }
     },
     "058e9cd500174ca4819c007ce888cb35": {
      "model_module": "@jupyter-widgets/controls",
      "model_module_version": "1.5.0",
      "model_name": "VBoxModel",
      "state": {
       "_dom_classes": [
        "widget-interact"
       ],
       "children": [
        "IPY_MODEL_8019edccd6ae4f3fa4dbec860463097d",
        "IPY_MODEL_ce54f8a888de46a5941eff5a5e6598cb"
       ],
       "layout": "IPY_MODEL_4870b50b082343c1b10ae66f7205b797"
      }
     },
     "06c6f89a52824c9abe54436c47248280": {
      "model_module": "@jupyter-widgets/controls",
      "model_module_version": "1.5.0",
      "model_name": "DescriptionStyleModel",
      "state": {
       "description_width": ""
      }
     },
     "2055109f8bbc414f9acc224e8b93762f": {
      "model_module": "@jupyter-widgets/base",
      "model_module_version": "1.2.0",
      "model_name": "LayoutModel",
      "state": {}
     },
     "23ebe228ab0b4eaf9dbb8ba67a6b01fa": {
      "model_module": "@jupyter-widgets/output",
      "model_module_version": "1.0.0",
      "model_name": "OutputModel",
      "state": {
       "layout": "IPY_MODEL_47ce7327d3804ac8a069e1a3ed2ebc83",
       "outputs": [
        {
         "data": {
          "image/png": "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\n",
          "text/plain": "<Figure size 864x576 with 1 Axes>"
         },
         "metadata": {
          "needs_background": "light"
         },
         "output_type": "display_data"
        }
       ]
      }
     },
     "47ce7327d3804ac8a069e1a3ed2ebc83": {
      "model_module": "@jupyter-widgets/base",
      "model_module_version": "1.2.0",
      "model_name": "LayoutModel",
      "state": {}
     },
     "4870b50b082343c1b10ae66f7205b797": {
      "model_module": "@jupyter-widgets/base",
      "model_module_version": "1.2.0",
      "model_name": "LayoutModel",
      "state": {}
     },
     "67f8311ce7b94b77b334607488b90a26": {
      "model_module": "@jupyter-widgets/controls",
      "model_module_version": "1.5.0",
      "model_name": "DescriptionStyleModel",
      "state": {
       "description_width": ""
      }
     },
     "7e8560b97c0e4bba8e4d29481f563f16": {
      "model_module": "@jupyter-widgets/controls",
      "model_module_version": "1.5.0",
      "model_name": "VBoxModel",
      "state": {
       "_dom_classes": [
        "widget-interact"
       ],
       "children": [
        "IPY_MODEL_887fc4eb5e31447e93348d0b558d200e",
        "IPY_MODEL_23ebe228ab0b4eaf9dbb8ba67a6b01fa"
       ],
       "layout": "IPY_MODEL_9066db510e2d43b4a4f2572363765de2"
      }
     },
     "8019edccd6ae4f3fa4dbec860463097d": {
      "model_module": "@jupyter-widgets/controls",
      "model_module_version": "1.5.0",
      "model_name": "DropdownModel",
      "state": {
       "_options_labels": [
        "product_weight_g",
        "product_length_cmproduct_height_cm",
        "product_width_cm",
        "distance",
        "volume"
       ],
       "description": "column",
       "index": 1,
       "layout": "IPY_MODEL_faea30e15df94b9f95fc6b5d878473b9",
       "style": "IPY_MODEL_06c6f89a52824c9abe54436c47248280"
      }
     },
     "887fc4eb5e31447e93348d0b558d200e": {
      "model_module": "@jupyter-widgets/controls",
      "model_module_version": "1.5.0",
      "model_name": "DropdownModel",
      "state": {
       "_options_labels": [
        "product_weight_g",
        "product_length_cm",
        "product_height_cm",
        "product_width_cm",
        "distance",
        "volume"
       ],
       "description": "column",
       "index": 2,
       "layout": "IPY_MODEL_b28997fd41fb4bea9d9b32b163ee0726",
       "style": "IPY_MODEL_fd4cf243bd7740429df59497af409e75"
      }
     },
     "9066db510e2d43b4a4f2572363765de2": {
      "model_module": "@jupyter-widgets/base",
      "model_module_version": "1.2.0",
      "model_name": "LayoutModel",
      "state": {}
     },
     "92eba6905f6e4a6b9e87d49792f5cd08": {
      "model_module": "@jupyter-widgets/base",
      "model_module_version": "1.2.0",
      "model_name": "LayoutModel",
      "state": {}
     },
     "b28997fd41fb4bea9d9b32b163ee0726": {
      "model_module": "@jupyter-widgets/base",
      "model_module_version": "1.2.0",
      "model_name": "LayoutModel",
      "state": {}
     },
     "ce54f8a888de46a5941eff5a5e6598cb": {
      "model_module": "@jupyter-widgets/output",
      "model_module_version": "1.0.0",
      "model_name": "OutputModel",
      "state": {
       "layout": "IPY_MODEL_92eba6905f6e4a6b9e87d49792f5cd08",
       "outputs": [
        {
         "ename": "KeyError",
         "evalue": "'product_length_cmproduct_height_cm'",
         "output_type": "error",
         "traceback": [
          "\u001b[0;31m---------------------------------------------------------------------------\u001b[0m",
          "\u001b[0;31mKeyError\u001b[0m                                  Traceback (most recent call last)",
          "\u001b[0;32m~/anaconda3/envs/r_env/lib/python3.8/site-packages/pandas/core/indexes/base.py\u001b[0m in \u001b[0;36mget_loc\u001b[0;34m(self, key, method, tolerance)\u001b[0m\n\u001b[1;32m   2645\u001b[0m             \u001b[0;32mtry\u001b[0m\u001b[0;34m:\u001b[0m\u001b[0;34m\u001b[0m\u001b[0;34m\u001b[0m\u001b[0m\n\u001b[0;32m-> 2646\u001b[0;31m                 \u001b[0;32mreturn\u001b[0m \u001b[0mself\u001b[0m\u001b[0;34m.\u001b[0m\u001b[0m_engine\u001b[0m\u001b[0;34m.\u001b[0m\u001b[0mget_loc\u001b[0m\u001b[0;34m(\u001b[0m\u001b[0mkey\u001b[0m\u001b[0;34m)\u001b[0m\u001b[0;34m\u001b[0m\u001b[0;34m\u001b[0m\u001b[0m\n\u001b[0m\u001b[1;32m   2647\u001b[0m             \u001b[0;32mexcept\u001b[0m \u001b[0mKeyError\u001b[0m\u001b[0;34m:\u001b[0m\u001b[0;34m\u001b[0m\u001b[0;34m\u001b[0m\u001b[0m\n",
          "\u001b[0;32mpandas/_libs/index.pyx\u001b[0m in \u001b[0;36mpandas._libs.index.IndexEngine.get_loc\u001b[0;34m()\u001b[0m\n",
          "\u001b[0;32mpandas/_libs/index.pyx\u001b[0m in \u001b[0;36mpandas._libs.index.IndexEngine.get_loc\u001b[0;34m()\u001b[0m\n",
          "\u001b[0;32mpandas/_libs/hashtable_class_helper.pxi\u001b[0m in \u001b[0;36mpandas._libs.hashtable.PyObjectHashTable.get_item\u001b[0;34m()\u001b[0m\n",
          "\u001b[0;32mpandas/_libs/hashtable_class_helper.pxi\u001b[0m in \u001b[0;36mpandas._libs.hashtable.PyObjectHashTable.get_item\u001b[0;34m()\u001b[0m\n",
          "\u001b[0;31mKeyError\u001b[0m: 'product_length_cmproduct_height_cm'",
          "\nDuring handling of the above exception, another exception occurred:\n",
          "\u001b[0;31mKeyError\u001b[0m                                  Traceback (most recent call last)",
          "\u001b[0;32m~/anaconda3/envs/r_env/lib/python3.8/site-packages/ipywidgets/widgets/interaction.py\u001b[0m in \u001b[0;36mupdate\u001b[0;34m(self, *args)\u001b[0m\n\u001b[1;32m    254\u001b[0m                     \u001b[0mvalue\u001b[0m \u001b[0;34m=\u001b[0m \u001b[0mwidget\u001b[0m\u001b[0;34m.\u001b[0m\u001b[0mget_interact_value\u001b[0m\u001b[0;34m(\u001b[0m\u001b[0;34m)\u001b[0m\u001b[0;34m\u001b[0m\u001b[0;34m\u001b[0m\u001b[0m\n\u001b[1;32m    255\u001b[0m                     \u001b[0mself\u001b[0m\u001b[0;34m.\u001b[0m\u001b[0mkwargs\u001b[0m\u001b[0;34m[\u001b[0m\u001b[0mwidget\u001b[0m\u001b[0;34m.\u001b[0m\u001b[0m_kwarg\u001b[0m\u001b[0;34m]\u001b[0m \u001b[0;34m=\u001b[0m \u001b[0mvalue\u001b[0m\u001b[0;34m\u001b[0m\u001b[0;34m\u001b[0m\u001b[0m\n\u001b[0;32m--> 256\u001b[0;31m                 \u001b[0mself\u001b[0m\u001b[0;34m.\u001b[0m\u001b[0mresult\u001b[0m \u001b[0;34m=\u001b[0m \u001b[0mself\u001b[0m\u001b[0;34m.\u001b[0m\u001b[0mf\u001b[0m\u001b[0;34m(\u001b[0m\u001b[0;34m**\u001b[0m\u001b[0mself\u001b[0m\u001b[0;34m.\u001b[0m\u001b[0mkwargs\u001b[0m\u001b[0;34m)\u001b[0m\u001b[0;34m\u001b[0m\u001b[0;34m\u001b[0m\u001b[0m\n\u001b[0m\u001b[1;32m    257\u001b[0m                 \u001b[0mshow_inline_matplotlib_plots\u001b[0m\u001b[0;34m(\u001b[0m\u001b[0;34m)\u001b[0m\u001b[0;34m\u001b[0m\u001b[0;34m\u001b[0m\u001b[0m\n\u001b[1;32m    258\u001b[0m                 \u001b[0;32mif\u001b[0m \u001b[0mself\u001b[0m\u001b[0;34m.\u001b[0m\u001b[0mauto_display\u001b[0m \u001b[0;32mand\u001b[0m \u001b[0mself\u001b[0m\u001b[0;34m.\u001b[0m\u001b[0mresult\u001b[0m \u001b[0;32mis\u001b[0m \u001b[0;32mnot\u001b[0m \u001b[0;32mNone\u001b[0m\u001b[0;34m:\u001b[0m\u001b[0;34m\u001b[0m\u001b[0;34m\u001b[0m\u001b[0m\n",
          "\u001b[0;32m<ipython-input-39-086ee0f9cf09>\u001b[0m in \u001b[0;36mplot_hist\u001b[0;34m(column)\u001b[0m\n\u001b[1;32m      6\u001b[0m ):\n\u001b[1;32m      7\u001b[0m     \u001b[0mplt\u001b[0m\u001b[0;34m.\u001b[0m\u001b[0mfigure\u001b[0m\u001b[0;34m(\u001b[0m\u001b[0mfigsize\u001b[0m\u001b[0;34m=\u001b[0m \u001b[0;34m(\u001b[0m\u001b[0;36m12\u001b[0m\u001b[0;34m,\u001b[0m\u001b[0;36m8\u001b[0m\u001b[0;34m)\u001b[0m\u001b[0;34m)\u001b[0m\u001b[0;34m\u001b[0m\u001b[0;34m\u001b[0m\u001b[0m\n\u001b[0;32m----> 8\u001b[0;31m     \u001b[0msns\u001b[0m\u001b[0;34m.\u001b[0m\u001b[0mdistplot\u001b[0m\u001b[0;34m(\u001b[0m\u001b[0mdf\u001b[0m\u001b[0;34m[\u001b[0m\u001b[0mcolumn\u001b[0m\u001b[0;34m]\u001b[0m\u001b[0;34m,\u001b[0m \u001b[0mkde\u001b[0m\u001b[0;34m=\u001b[0m \u001b[0;32mTrue\u001b[0m\u001b[0;34m)\u001b[0m\u001b[0;34m\u001b[0m\u001b[0;34m\u001b[0m\u001b[0m\n\u001b[0m\u001b[1;32m      9\u001b[0m     \u001b[0mplt\u001b[0m\u001b[0;34m.\u001b[0m\u001b[0mtitle\u001b[0m\u001b[0;34m(\u001b[0m\u001b[0;34m'Histogram of {}'\u001b[0m\u001b[0;34m.\u001b[0m\u001b[0mformat\u001b[0m\u001b[0;34m(\u001b[0m\u001b[0mcolumn\u001b[0m\u001b[0;34m)\u001b[0m\u001b[0;34m,\u001b[0m \u001b[0mfontdict\u001b[0m\u001b[0;34m=\u001b[0m \u001b[0;34m{\u001b[0m\u001b[0;34m'size'\u001b[0m\u001b[0;34m:\u001b[0m\u001b[0;36m15\u001b[0m\u001b[0;34m}\u001b[0m\u001b[0;34m)\u001b[0m\u001b[0;34m\u001b[0m\u001b[0;34m\u001b[0m\u001b[0m\n",
          "\u001b[0;32m~/anaconda3/envs/r_env/lib/python3.8/site-packages/pandas/core/frame.py\u001b[0m in \u001b[0;36m__getitem__\u001b[0;34m(self, key)\u001b[0m\n\u001b[1;32m   2798\u001b[0m             \u001b[0;32mif\u001b[0m \u001b[0mself\u001b[0m\u001b[0;34m.\u001b[0m\u001b[0mcolumns\u001b[0m\u001b[0;34m.\u001b[0m\u001b[0mnlevels\u001b[0m \u001b[0;34m>\u001b[0m \u001b[0;36m1\u001b[0m\u001b[0;34m:\u001b[0m\u001b[0;34m\u001b[0m\u001b[0;34m\u001b[0m\u001b[0m\n\u001b[1;32m   2799\u001b[0m                 \u001b[0;32mreturn\u001b[0m \u001b[0mself\u001b[0m\u001b[0;34m.\u001b[0m\u001b[0m_getitem_multilevel\u001b[0m\u001b[0;34m(\u001b[0m\u001b[0mkey\u001b[0m\u001b[0;34m)\u001b[0m\u001b[0;34m\u001b[0m\u001b[0;34m\u001b[0m\u001b[0m\n\u001b[0;32m-> 2800\u001b[0;31m             \u001b[0mindexer\u001b[0m \u001b[0;34m=\u001b[0m \u001b[0mself\u001b[0m\u001b[0;34m.\u001b[0m\u001b[0mcolumns\u001b[0m\u001b[0;34m.\u001b[0m\u001b[0mget_loc\u001b[0m\u001b[0;34m(\u001b[0m\u001b[0mkey\u001b[0m\u001b[0;34m)\u001b[0m\u001b[0;34m\u001b[0m\u001b[0;34m\u001b[0m\u001b[0m\n\u001b[0m\u001b[1;32m   2801\u001b[0m             \u001b[0;32mif\u001b[0m \u001b[0mis_integer\u001b[0m\u001b[0;34m(\u001b[0m\u001b[0mindexer\u001b[0m\u001b[0;34m)\u001b[0m\u001b[0;34m:\u001b[0m\u001b[0;34m\u001b[0m\u001b[0;34m\u001b[0m\u001b[0m\n\u001b[1;32m   2802\u001b[0m                 \u001b[0mindexer\u001b[0m \u001b[0;34m=\u001b[0m \u001b[0;34m[\u001b[0m\u001b[0mindexer\u001b[0m\u001b[0;34m]\u001b[0m\u001b[0;34m\u001b[0m\u001b[0;34m\u001b[0m\u001b[0m\n",
          "\u001b[0;32m~/anaconda3/envs/r_env/lib/python3.8/site-packages/pandas/core/indexes/base.py\u001b[0m in \u001b[0;36mget_loc\u001b[0;34m(self, key, method, tolerance)\u001b[0m\n\u001b[1;32m   2646\u001b[0m                 \u001b[0;32mreturn\u001b[0m \u001b[0mself\u001b[0m\u001b[0;34m.\u001b[0m\u001b[0m_engine\u001b[0m\u001b[0;34m.\u001b[0m\u001b[0mget_loc\u001b[0m\u001b[0;34m(\u001b[0m\u001b[0mkey\u001b[0m\u001b[0;34m)\u001b[0m\u001b[0;34m\u001b[0m\u001b[0;34m\u001b[0m\u001b[0m\n\u001b[1;32m   2647\u001b[0m             \u001b[0;32mexcept\u001b[0m \u001b[0mKeyError\u001b[0m\u001b[0;34m:\u001b[0m\u001b[0;34m\u001b[0m\u001b[0;34m\u001b[0m\u001b[0m\n\u001b[0;32m-> 2648\u001b[0;31m                 \u001b[0;32mreturn\u001b[0m \u001b[0mself\u001b[0m\u001b[0;34m.\u001b[0m\u001b[0m_engine\u001b[0m\u001b[0;34m.\u001b[0m\u001b[0mget_loc\u001b[0m\u001b[0;34m(\u001b[0m\u001b[0mself\u001b[0m\u001b[0;34m.\u001b[0m\u001b[0m_maybe_cast_indexer\u001b[0m\u001b[0;34m(\u001b[0m\u001b[0mkey\u001b[0m\u001b[0;34m)\u001b[0m\u001b[0;34m)\u001b[0m\u001b[0;34m\u001b[0m\u001b[0;34m\u001b[0m\u001b[0m\n\u001b[0m\u001b[1;32m   2649\u001b[0m         \u001b[0mindexer\u001b[0m \u001b[0;34m=\u001b[0m \u001b[0mself\u001b[0m\u001b[0;34m.\u001b[0m\u001b[0mget_indexer\u001b[0m\u001b[0;34m(\u001b[0m\u001b[0;34m[\u001b[0m\u001b[0mkey\u001b[0m\u001b[0;34m]\u001b[0m\u001b[0;34m,\u001b[0m \u001b[0mmethod\u001b[0m\u001b[0;34m=\u001b[0m\u001b[0mmethod\u001b[0m\u001b[0;34m,\u001b[0m \u001b[0mtolerance\u001b[0m\u001b[0;34m=\u001b[0m\u001b[0mtolerance\u001b[0m\u001b[0;34m)\u001b[0m\u001b[0;34m\u001b[0m\u001b[0;34m\u001b[0m\u001b[0m\n\u001b[1;32m   2650\u001b[0m         \u001b[0;32mif\u001b[0m \u001b[0mindexer\u001b[0m\u001b[0;34m.\u001b[0m\u001b[0mndim\u001b[0m \u001b[0;34m>\u001b[0m \u001b[0;36m1\u001b[0m \u001b[0;32mor\u001b[0m \u001b[0mindexer\u001b[0m\u001b[0;34m.\u001b[0m\u001b[0msize\u001b[0m \u001b[0;34m>\u001b[0m \u001b[0;36m1\u001b[0m\u001b[0;34m:\u001b[0m\u001b[0;34m\u001b[0m\u001b[0;34m\u001b[0m\u001b[0m\n",
          "\u001b[0;32mpandas/_libs/index.pyx\u001b[0m in \u001b[0;36mpandas._libs.index.IndexEngine.get_loc\u001b[0;34m()\u001b[0m\n",
          "\u001b[0;32mpandas/_libs/index.pyx\u001b[0m in \u001b[0;36mpandas._libs.index.IndexEngine.get_loc\u001b[0;34m()\u001b[0m\n",
          "\u001b[0;32mpandas/_libs/hashtable_class_helper.pxi\u001b[0m in \u001b[0;36mpandas._libs.hashtable.PyObjectHashTable.get_item\u001b[0;34m()\u001b[0m\n",
          "\u001b[0;32mpandas/_libs/hashtable_class_helper.pxi\u001b[0m in \u001b[0;36mpandas._libs.hashtable.PyObjectHashTable.get_item\u001b[0;34m()\u001b[0m\n",
          "\u001b[0;31mKeyError\u001b[0m: 'product_length_cmproduct_height_cm'"
         ]
        }
       ]
      }
     },
     "dcfa110e1f2946a6ad895baa5f9d2978": {
      "model_module": "@jupyter-widgets/controls",
      "model_module_version": "1.5.0",
      "model_name": "VBoxModel",
      "state": {
       "_dom_classes": [
        "widget-interact"
       ],
       "children": [
        "IPY_MODEL_003cb66582ec44499042c9d14d7afddd",
        "IPY_MODEL_f28ce86edf6245748c10c5aaaa926f86"
       ],
       "layout": "IPY_MODEL_e049e15d5f3e4056a245c487e7914adc"
      }
     },
     "e049e15d5f3e4056a245c487e7914adc": {
      "model_module": "@jupyter-widgets/base",
      "model_module_version": "1.2.0",
      "model_name": "LayoutModel",
      "state": {}
     },
     "f1d6eeda6ffe404582605ae670c1599a": {
      "model_module": "@jupyter-widgets/base",
      "model_module_version": "1.2.0",
      "model_name": "LayoutModel",
      "state": {}
     },
     "f28ce86edf6245748c10c5aaaa926f86": {
      "model_module": "@jupyter-widgets/output",
      "model_module_version": "1.0.0",
      "model_name": "OutputModel",
      "state": {
       "layout": "IPY_MODEL_f1d6eeda6ffe404582605ae670c1599a",
       "outputs": [
        {
         "ename": "ValueError",
         "evalue": "could not convert string to float: 'product_weight_g'",
         "output_type": "error",
         "traceback": [
          "\u001b[0;31m---------------------------------------------------------------------------\u001b[0m",
          "\u001b[0;31mValueError\u001b[0m                                Traceback (most recent call last)",
          "\u001b[0;32m~/anaconda3/envs/r_env/lib/python3.8/site-packages/ipywidgets/widgets/interaction.py\u001b[0m in \u001b[0;36mupdate\u001b[0;34m(self, *args)\u001b[0m\n\u001b[1;32m    254\u001b[0m                     \u001b[0mvalue\u001b[0m \u001b[0;34m=\u001b[0m \u001b[0mwidget\u001b[0m\u001b[0;34m.\u001b[0m\u001b[0mget_interact_value\u001b[0m\u001b[0;34m(\u001b[0m\u001b[0;34m)\u001b[0m\u001b[0;34m\u001b[0m\u001b[0;34m\u001b[0m\u001b[0m\n\u001b[1;32m    255\u001b[0m                     \u001b[0mself\u001b[0m\u001b[0;34m.\u001b[0m\u001b[0mkwargs\u001b[0m\u001b[0;34m[\u001b[0m\u001b[0mwidget\u001b[0m\u001b[0;34m.\u001b[0m\u001b[0m_kwarg\u001b[0m\u001b[0;34m]\u001b[0m \u001b[0;34m=\u001b[0m \u001b[0mvalue\u001b[0m\u001b[0;34m\u001b[0m\u001b[0;34m\u001b[0m\u001b[0m\n\u001b[0;32m--> 256\u001b[0;31m                 \u001b[0mself\u001b[0m\u001b[0;34m.\u001b[0m\u001b[0mresult\u001b[0m \u001b[0;34m=\u001b[0m \u001b[0mself\u001b[0m\u001b[0;34m.\u001b[0m\u001b[0mf\u001b[0m\u001b[0;34m(\u001b[0m\u001b[0;34m**\u001b[0m\u001b[0mself\u001b[0m\u001b[0;34m.\u001b[0m\u001b[0mkwargs\u001b[0m\u001b[0;34m)\u001b[0m\u001b[0;34m\u001b[0m\u001b[0;34m\u001b[0m\u001b[0m\n\u001b[0m\u001b[1;32m    257\u001b[0m                 \u001b[0mshow_inline_matplotlib_plots\u001b[0m\u001b[0;34m(\u001b[0m\u001b[0;34m)\u001b[0m\u001b[0;34m\u001b[0m\u001b[0;34m\u001b[0m\u001b[0m\n\u001b[1;32m    258\u001b[0m                 \u001b[0;32mif\u001b[0m \u001b[0mself\u001b[0m\u001b[0;34m.\u001b[0m\u001b[0mauto_display\u001b[0m \u001b[0;32mand\u001b[0m \u001b[0mself\u001b[0m\u001b[0;34m.\u001b[0m\u001b[0mresult\u001b[0m \u001b[0;32mis\u001b[0m \u001b[0;32mnot\u001b[0m \u001b[0;32mNone\u001b[0m\u001b[0;34m:\u001b[0m\u001b[0;34m\u001b[0m\u001b[0;34m\u001b[0m\u001b[0m\n",
          "\u001b[0;32m<ipython-input-38-6537d71d2ca4>\u001b[0m in \u001b[0;36mplot_hist\u001b[0;34m(column)\u001b[0m\n\u001b[1;32m      6\u001b[0m ):\n\u001b[1;32m      7\u001b[0m     \u001b[0mplt\u001b[0m\u001b[0;34m.\u001b[0m\u001b[0mfigure\u001b[0m\u001b[0;34m(\u001b[0m\u001b[0mfigsize\u001b[0m\u001b[0;34m=\u001b[0m \u001b[0;34m(\u001b[0m\u001b[0;36m12\u001b[0m\u001b[0;34m,\u001b[0m\u001b[0;36m8\u001b[0m\u001b[0;34m)\u001b[0m\u001b[0;34m)\u001b[0m\u001b[0;34m\u001b[0m\u001b[0;34m\u001b[0m\u001b[0m\n\u001b[0;32m----> 8\u001b[0;31m     \u001b[0msns\u001b[0m\u001b[0;34m.\u001b[0m\u001b[0mdistplot\u001b[0m\u001b[0;34m(\u001b[0m\u001b[0mcolumn\u001b[0m\u001b[0;34m,\u001b[0m \u001b[0mkde\u001b[0m\u001b[0;34m=\u001b[0m \u001b[0;32mTrue\u001b[0m\u001b[0;34m)\u001b[0m\u001b[0;34m\u001b[0m\u001b[0;34m\u001b[0m\u001b[0m\n\u001b[0m\u001b[1;32m      9\u001b[0m     \u001b[0mplt\u001b[0m\u001b[0;34m.\u001b[0m\u001b[0mtitle\u001b[0m\u001b[0;34m(\u001b[0m\u001b[0;34m'Histogram of {}'\u001b[0m\u001b[0;34m.\u001b[0m\u001b[0mformat\u001b[0m\u001b[0;34m(\u001b[0m\u001b[0mcolumn\u001b[0m\u001b[0;34m)\u001b[0m\u001b[0;34m,\u001b[0m \u001b[0mfontdict\u001b[0m\u001b[0;34m=\u001b[0m \u001b[0;34m{\u001b[0m\u001b[0;34m'size'\u001b[0m\u001b[0;34m:\u001b[0m\u001b[0;36m15\u001b[0m\u001b[0;34m}\u001b[0m\u001b[0;34m)\u001b[0m\u001b[0;34m\u001b[0m\u001b[0;34m\u001b[0m\u001b[0m\n",
          "\u001b[0;32m~/anaconda3/envs/r_env/lib/python3.8/site-packages/seaborn/distributions.py\u001b[0m in \u001b[0;36mdistplot\u001b[0;34m(a, bins, hist, kde, rug, fit, hist_kws, kde_kws, rug_kws, fit_kws, color, vertical, norm_hist, axlabel, label, ax)\u001b[0m\n\u001b[1;32m    175\u001b[0m \u001b[0;34m\u001b[0m\u001b[0m\n\u001b[1;32m    176\u001b[0m     \u001b[0;31m# Make a a 1-d float array\u001b[0m\u001b[0;34m\u001b[0m\u001b[0;34m\u001b[0m\u001b[0;34m\u001b[0m\u001b[0m\n\u001b[0;32m--> 177\u001b[0;31m     \u001b[0ma\u001b[0m \u001b[0;34m=\u001b[0m \u001b[0mnp\u001b[0m\u001b[0;34m.\u001b[0m\u001b[0masarray\u001b[0m\u001b[0;34m(\u001b[0m\u001b[0ma\u001b[0m\u001b[0;34m,\u001b[0m \u001b[0mnp\u001b[0m\u001b[0;34m.\u001b[0m\u001b[0mfloat\u001b[0m\u001b[0;34m)\u001b[0m\u001b[0;34m\u001b[0m\u001b[0;34m\u001b[0m\u001b[0m\n\u001b[0m\u001b[1;32m    178\u001b[0m     \u001b[0;32mif\u001b[0m \u001b[0ma\u001b[0m\u001b[0;34m.\u001b[0m\u001b[0mndim\u001b[0m \u001b[0;34m>\u001b[0m \u001b[0;36m1\u001b[0m\u001b[0;34m:\u001b[0m\u001b[0;34m\u001b[0m\u001b[0;34m\u001b[0m\u001b[0m\n\u001b[1;32m    179\u001b[0m         \u001b[0ma\u001b[0m \u001b[0;34m=\u001b[0m \u001b[0ma\u001b[0m\u001b[0;34m.\u001b[0m\u001b[0msqueeze\u001b[0m\u001b[0;34m(\u001b[0m\u001b[0;34m)\u001b[0m\u001b[0;34m\u001b[0m\u001b[0;34m\u001b[0m\u001b[0m\n",
          "\u001b[0;32m~/anaconda3/envs/r_env/lib/python3.8/site-packages/numpy/core/_asarray.py\u001b[0m in \u001b[0;36masarray\u001b[0;34m(a, dtype, order)\u001b[0m\n\u001b[1;32m     83\u001b[0m \u001b[0;34m\u001b[0m\u001b[0m\n\u001b[1;32m     84\u001b[0m     \"\"\"\n\u001b[0;32m---> 85\u001b[0;31m     \u001b[0;32mreturn\u001b[0m \u001b[0marray\u001b[0m\u001b[0;34m(\u001b[0m\u001b[0ma\u001b[0m\u001b[0;34m,\u001b[0m \u001b[0mdtype\u001b[0m\u001b[0;34m,\u001b[0m \u001b[0mcopy\u001b[0m\u001b[0;34m=\u001b[0m\u001b[0;32mFalse\u001b[0m\u001b[0;34m,\u001b[0m \u001b[0morder\u001b[0m\u001b[0;34m=\u001b[0m\u001b[0morder\u001b[0m\u001b[0;34m)\u001b[0m\u001b[0;34m\u001b[0m\u001b[0;34m\u001b[0m\u001b[0m\n\u001b[0m\u001b[1;32m     86\u001b[0m \u001b[0;34m\u001b[0m\u001b[0m\n\u001b[1;32m     87\u001b[0m \u001b[0;34m\u001b[0m\u001b[0m\n",
          "\u001b[0;31mValueError\u001b[0m: could not convert string to float: 'product_weight_g'"
         ]
        }
       ]
      }
     },
     "faea30e15df94b9f95fc6b5d878473b9": {
      "model_module": "@jupyter-widgets/base",
      "model_module_version": "1.2.0",
      "model_name": "LayoutModel",
      "state": {}
     },
     "fd4cf243bd7740429df59497af409e75": {
      "model_module": "@jupyter-widgets/controls",
      "model_module_version": "1.5.0",
      "model_name": "DescriptionStyleModel",
      "state": {
       "description_width": ""
      }
     }
    },
    "version_major": 2,
    "version_minor": 0
   }
  }
 },
 "nbformat": 4,
 "nbformat_minor": 4
}
